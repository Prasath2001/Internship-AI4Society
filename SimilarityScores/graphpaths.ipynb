{
 "cells": [
  {
   "cell_type": "code",
   "execution_count": 32,
   "source": [
    "import pandas as pd\r\n",
    "import networkx as nx\r\n",
    "import matplotlib.pyplot as plt\r\n",
    "import seaborn as sns\r\n",
    "import numpy as np\r\n",
    "import os"
   ],
   "outputs": [],
   "metadata": {}
  },
  {
   "cell_type": "code",
   "execution_count": 2,
   "source": [
    "graphdf = pd.read_excel('conceptnetsubgraph_2.xlsx')\r\n",
    "graphdf.head()"
   ],
   "outputs": [
    {
     "output_type": "execute_result",
     "data": {
      "text/plain": [
       "            Source Relationship type Destination\n",
       "0  derivative_work        hascontext       legal\n",
       "1  derivative_work         relatedto    original\n",
       "2  derivative_work         relatedto     similar\n",
       "3  derivative_work         relatedto        work\n",
       "4     cheese_crisp         relatedto        bake"
      ],
      "text/html": [
       "<div>\n",
       "<style scoped>\n",
       "    .dataframe tbody tr th:only-of-type {\n",
       "        vertical-align: middle;\n",
       "    }\n",
       "\n",
       "    .dataframe tbody tr th {\n",
       "        vertical-align: top;\n",
       "    }\n",
       "\n",
       "    .dataframe thead th {\n",
       "        text-align: right;\n",
       "    }\n",
       "</style>\n",
       "<table border=\"1\" class=\"dataframe\">\n",
       "  <thead>\n",
       "    <tr style=\"text-align: right;\">\n",
       "      <th></th>\n",
       "      <th>Source</th>\n",
       "      <th>Relationship type</th>\n",
       "      <th>Destination</th>\n",
       "    </tr>\n",
       "  </thead>\n",
       "  <tbody>\n",
       "    <tr>\n",
       "      <th>0</th>\n",
       "      <td>derivative_work</td>\n",
       "      <td>hascontext</td>\n",
       "      <td>legal</td>\n",
       "    </tr>\n",
       "    <tr>\n",
       "      <th>1</th>\n",
       "      <td>derivative_work</td>\n",
       "      <td>relatedto</td>\n",
       "      <td>original</td>\n",
       "    </tr>\n",
       "    <tr>\n",
       "      <th>2</th>\n",
       "      <td>derivative_work</td>\n",
       "      <td>relatedto</td>\n",
       "      <td>similar</td>\n",
       "    </tr>\n",
       "    <tr>\n",
       "      <th>3</th>\n",
       "      <td>derivative_work</td>\n",
       "      <td>relatedto</td>\n",
       "      <td>work</td>\n",
       "    </tr>\n",
       "    <tr>\n",
       "      <th>4</th>\n",
       "      <td>cheese_crisp</td>\n",
       "      <td>relatedto</td>\n",
       "      <td>bake</td>\n",
       "    </tr>\n",
       "  </tbody>\n",
       "</table>\n",
       "</div>"
      ]
     },
     "metadata": {},
     "execution_count": 2
    }
   ],
   "metadata": {}
  },
  {
   "cell_type": "code",
   "execution_count": 3,
   "source": [
    "len(graphdf)"
   ],
   "outputs": [
    {
     "output_type": "execute_result",
     "data": {
      "text/plain": [
       "160670"
      ]
     },
     "metadata": {},
     "execution_count": 3
    }
   ],
   "metadata": {}
  },
  {
   "cell_type": "code",
   "execution_count": 4,
   "source": [
    "print(\"No. of edges in subgraph : \",len(graphdf))"
   ],
   "outputs": [
    {
     "output_type": "stream",
     "name": "stdout",
     "text": [
      "No. of edges in subgraph :  160670\n"
     ]
    }
   ],
   "metadata": {}
  },
  {
   "cell_type": "code",
   "execution_count": 5,
   "source": [
    "print(\"No. of Nodes in subgraph : \",graphdf['Source'].nunique() + graphdf['Destination'].nunique())"
   ],
   "outputs": [
    {
     "output_type": "stream",
     "name": "stdout",
     "text": [
      "No. of Nodes in subgraph :  28371\n"
     ]
    }
   ],
   "metadata": {}
  },
  {
   "cell_type": "code",
   "execution_count": 6,
   "source": [
    "print(\"Average no. of neighbors in this subgraph : \",len(graphdf)/(graphdf['Source'].nunique() + graphdf['Destination'].nunique()))"
   ],
   "outputs": [
    {
     "output_type": "stream",
     "name": "stdout",
     "text": [
      "Average no. of neighbors in this subgraph :  5.663177187973635\n"
     ]
    }
   ],
   "metadata": {}
  },
  {
   "cell_type": "code",
   "execution_count": 7,
   "source": [
    "G = nx.from_pandas_edgelist(graphdf,'Source','Destination',edge_attr='Relationship type',create_using=nx.MultiDiGraph)"
   ],
   "outputs": [],
   "metadata": {}
  },
  {
   "cell_type": "code",
   "execution_count": 8,
   "source": [
    "path_count = 1\r\n",
    "for path in nx.all_simple_edge_paths(G,'apple','banana',cutoff=3):\r\n",
    "    print('path ',path_count)\r\n",
    "    path_count+=1\r\n",
    "    for i in range(len(path)):\r\n",
    "        print(path[i][0] +\" -> \" + G[path[i][0]][path[i][1]][path[i][2]]['Relationship type'] + \" -> \" + path[i][1])\r\n",
    "\r\n",
    "    "
   ],
   "outputs": [
    {
     "output_type": "stream",
     "name": "stdout",
     "text": [
      "path  1\n",
      "apple -> antonym -> banana\n",
      "path  2\n",
      "apple -> distinctfrom -> banana\n",
      "path  3\n",
      "apple -> locatednear -> banana\n",
      "path  4\n",
      "apple -> antonym -> orange\n",
      "orange -> relatedto -> yellow\n",
      "yellow -> relatedto -> banana\n",
      "path  5\n",
      "apple -> distinctfrom -> orange\n",
      "orange -> relatedto -> yellow\n",
      "yellow -> relatedto -> banana\n",
      "path  6\n",
      "apple -> relatedto -> orange\n",
      "orange -> relatedto -> yellow\n",
      "yellow -> relatedto -> banana\n",
      "path  7\n",
      "apple -> hasproperty -> green\n",
      "green -> distinctfrom -> yellow\n",
      "yellow -> relatedto -> banana\n",
      "path  8\n",
      "apple -> hasproperty -> green\n",
      "green -> hasproperty -> yellow\n",
      "yellow -> relatedto -> banana\n",
      "path  9\n",
      "apple -> hasproperty -> green\n",
      "green -> relatedto -> yellow\n",
      "yellow -> relatedto -> banana\n",
      "path  10\n",
      "apple -> relatedto -> green\n",
      "green -> distinctfrom -> yellow\n",
      "yellow -> relatedto -> banana\n",
      "path  11\n",
      "apple -> relatedto -> green\n",
      "green -> hasproperty -> yellow\n",
      "yellow -> relatedto -> banana\n",
      "path  12\n",
      "apple -> relatedto -> green\n",
      "green -> relatedto -> yellow\n",
      "yellow -> relatedto -> banana\n",
      "path  13\n",
      "apple -> hasproperty -> red\n",
      "red -> relatedto -> yellow\n",
      "yellow -> relatedto -> banana\n",
      "path  14\n",
      "apple -> relatedto -> red\n",
      "red -> relatedto -> yellow\n",
      "yellow -> relatedto -> banana\n",
      "path  15\n",
      "apple -> partof -> apple\n",
      "apple -> antonym -> banana\n",
      "path  16\n",
      "apple -> partof -> apple\n",
      "apple -> distinctfrom -> banana\n",
      "path  17\n",
      "apple -> partof -> apple\n",
      "apple -> locatednear -> banana\n",
      "path  18\n",
      "apple -> partof -> apple\n",
      "apple -> relatedto -> yellow\n",
      "yellow -> relatedto -> banana\n",
      "path  19\n",
      "apple -> synonym -> apple\n",
      "apple -> antonym -> banana\n",
      "path  20\n",
      "apple -> synonym -> apple\n",
      "apple -> distinctfrom -> banana\n",
      "path  21\n",
      "apple -> synonym -> apple\n",
      "apple -> locatednear -> banana\n",
      "path  22\n",
      "apple -> synonym -> apple\n",
      "apple -> relatedto -> yellow\n",
      "yellow -> relatedto -> banana\n",
      "path  23\n",
      "apple -> relatedto -> color\n",
      "color -> relatedto -> yellow\n",
      "yellow -> relatedto -> banana\n",
      "path  24\n",
      "apple -> relatedto -> fall\n",
      "fall -> hasprerequisite -> slip\n",
      "slip -> relatedto -> banana\n",
      "path  25\n",
      "apple -> relatedto -> fall\n",
      "fall -> relatedto -> slip\n",
      "slip -> relatedto -> banana\n",
      "path  26\n",
      "apple -> relatedto -> garden\n",
      "garden -> relatedto -> bunch\n",
      "bunch -> relatedto -> banana\n",
      "path  27\n",
      "apple -> relatedto -> gold\n",
      "gold -> relatedto -> yellow\n",
      "yellow -> relatedto -> banana\n",
      "path  28\n",
      "apple -> relatedto -> head\n",
      "head -> relatedto -> chief\n",
      "chief -> relatedto -> banana\n",
      "path  29\n",
      "apple -> relatedto -> head\n",
      "head -> synonym -> chief\n",
      "chief -> relatedto -> banana\n",
      "path  30\n",
      "apple -> relatedto -> tennis\n",
      "tennis -> relatedto -> yellow\n",
      "yellow -> relatedto -> banana\n",
      "path  31\n",
      "apple -> relatedto -> yellow\n",
      "yellow -> relatedto -> banana\n",
      "path  32\n",
      "apple -> relatedto -> yellow\n",
      "yellow -> synonym -> yellow\n",
      "yellow -> relatedto -> banana\n"
     ]
    }
   ],
   "metadata": {}
  },
  {
   "cell_type": "code",
   "execution_count": 9,
   "source": [
    "# Idea for Apriori  - apple, [antonym,distinctfrom,locatednear] , banana"
   ],
   "outputs": [],
   "metadata": {}
  },
  {
   "cell_type": "code",
   "execution_count": 10,
   "source": [
    "graphdf['Relationship type'].value_counts()"
   ],
   "outputs": [
    {
     "output_type": "execute_result",
     "data": {
      "text/plain": [
       "relatedto                    95776\n",
       "hascontext                   12076\n",
       "isa                          10862\n",
       "synonym                       8665\n",
       "atlocation                    7869\n",
       "                             ...  \n",
       "etymologicallyderivedfrom        1\n",
       "symbolof                         1\n",
       "language                         1\n",
       "Causes                           1\n",
       "MadeOf                           1\n",
       "Name: Relationship type, Length: 64, dtype: int64"
      ]
     },
     "metadata": {},
     "execution_count": 10
    }
   ],
   "metadata": {}
  },
  {
   "cell_type": "code",
   "execution_count": 11,
   "source": [
    "rel_freq = graphdf['Relationship type'].value_counts()\r\n",
    "rel_freq[:10]"
   ],
   "outputs": [
    {
     "output_type": "execute_result",
     "data": {
      "text/plain": [
       "relatedto      95776\n",
       "hascontext     12076\n",
       "isa            10862\n",
       "synonym         8665\n",
       "atlocation      7869\n",
       "derivedfrom     4473\n",
       "usedfor         3922\n",
       "mannerof        2449\n",
       "antonym         2237\n",
       "formof          1278\n",
       "Name: Relationship type, dtype: int64"
      ]
     },
     "metadata": {},
     "execution_count": 11
    }
   ],
   "metadata": {}
  },
  {
   "cell_type": "code",
   "execution_count": 12,
   "source": [
    "nx.has_path(G,'kitchen','sugar')"
   ],
   "outputs": [
    {
     "output_type": "execute_result",
     "data": {
      "text/plain": [
       "True"
      ]
     },
     "metadata": {},
     "execution_count": 12
    }
   ],
   "metadata": {}
  },
  {
   "cell_type": "code",
   "execution_count": 13,
   "source": [
    "path_count = 1\r\n",
    "for path in nx.all_simple_edge_paths(G,'kitchen','sugar',cutoff=3):\r\n",
    "    print('path ',path_count)\r\n",
    "    path_count+=1\r\n",
    "    for i in range(len(path)):\r\n",
    "        print(path[i],G[path[i][0]][path[i][1]][path[i][2]]['Relationship type'])"
   ],
   "outputs": [
    {
     "output_type": "stream",
     "name": "stdout",
     "text": [
      "path  1\n",
      "('kitchen', 'home', 0) atlocation\n",
      "('home', 'person', 0) relatedto\n",
      "('person', 'sugar', 0) desires\n",
      "path  2\n",
      "('kitchen', 'home', 0) atlocation\n",
      "('home', 'sweet', 0) relatedto\n",
      "('sweet', 'sugar', 0) relatedto\n",
      "path  3\n",
      "('kitchen', 'cook', 0) etymologicallyrelatedto\n",
      "('cook', 'person', 0) relatedto\n",
      "('person', 'sugar', 0) desires\n",
      "path  4\n",
      "('kitchen', 'cook', 1) usedfor\n",
      "('cook', 'person', 0) relatedto\n",
      "('person', 'sugar', 0) desires\n",
      "path  5\n",
      "('kitchen', 'place', 0) isa\n",
      "('place', 'person', 0) distinctfrom\n",
      "('person', 'sugar', 0) desires\n",
      "path  6\n",
      "('kitchen', 'place', 0) isa\n",
      "('place', 'person', 1) relatedto\n",
      "('person', 'sugar', 0) desires\n",
      "path  7\n",
      "('kitchen', 'room', 0) isa\n",
      "('room', 'hill', 0) relatedto\n",
      "('hill', 'sugar', 0) relatedto\n",
      "path  8\n",
      "('kitchen', 'room', 1) relatedto\n",
      "('room', 'hill', 0) relatedto\n",
      "('hill', 'sugar', 0) relatedto\n"
     ]
    }
   ],
   "metadata": {}
  },
  {
   "cell_type": "code",
   "execution_count": 14,
   "source": [
    "G.out_degree('kitchen')"
   ],
   "outputs": [
    {
     "output_type": "execute_result",
     "data": {
      "text/plain": [
       "65"
      ]
     },
     "metadata": {},
     "execution_count": 14
    }
   ],
   "metadata": {}
  },
  {
   "cell_type": "code",
   "execution_count": 15,
   "source": [
    "G.in_degree('kitchen')"
   ],
   "outputs": [
    {
     "output_type": "execute_result",
     "data": {
      "text/plain": [
       "295"
      ]
     },
     "metadata": {},
     "execution_count": 15
    }
   ],
   "metadata": {}
  },
  {
   "cell_type": "code",
   "execution_count": 16,
   "source": [
    "relations = []\r\n",
    "for i in G.edges('kitchen'):\r\n",
    "    relations.append(G.get_edge_data(i[0],i[1])[0]['Relationship type']) \r\n",
    "    print(i,G.get_edge_data(i[0],i[1])[0]['Relationship type'])"
   ],
   "outputs": [
    {
     "output_type": "stream",
     "name": "stdout",
     "text": [
      "('kitchen', 'apartment') atlocation\n",
      "('kitchen', 'breadbox') atlocation\n",
      "('kitchen', 'fraternity_house') atlocation\n",
      "('kitchen', \"friend's_house\") atlocation\n",
      "('kitchen', 'home') atlocation\n",
      "('kitchen', 'hotel') atlocation\n",
      "('kitchen', 'kansas') atlocation\n",
      "('kitchen', \"neighbor's_house\") atlocation\n",
      "('kitchen', 'restaurant') atlocation\n",
      "('kitchen', 'resturant') atlocation\n",
      "('kitchen', 'resturaunt') atlocation\n",
      "('kitchen', 'store_sells_kitchens') atlocation\n",
      "('kitchen', 'waste_bin') atlocation\n",
      "('kitchen', 'kitchen_supper') derivedfrom\n",
      "('kitchen', 'kitchenhand') derivedfrom\n",
      "('kitchen', 'cook') etymologicallyrelatedto\n",
      "('kitchen', 'cook') etymologicallyrelatedto\n",
      "('kitchen', 'cuisine') etymologicallyrelatedto\n",
      "('kitchen', 'cuisine') etymologicallyrelatedto\n",
      "('kitchen', 'african_american_vernacular_english') hascontext\n",
      "('kitchen', 'music') hascontext\n",
      "('kitchen', 'dirty') hasproperty\n",
      "('kitchen', 'food_preparation_area') isa\n",
      "('kitchen', 'food_preparation_area') isa\n",
      "('kitchen', 'place') isa\n",
      "('kitchen', 'place_for_food_preparation') isa\n",
      "('kitchen', 'place_to_prepare_meals') isa\n",
      "('kitchen', 'room_in_house') isa\n",
      "('kitchen', 'special_room') isa\n",
      "('kitchen', 'where_cook_tomatoes_yum') isa\n",
      "('kitchen', 'room') isa\n",
      "('kitchen', 'room') isa\n",
      "('kitchen', 'dwelling') partof\n",
      "('kitchen', 'built_by_carpenter') receivesaction\n",
      "('kitchen', 'found_in_house') receivesaction\n",
      "('kitchen', 'domesticated') relatedto\n",
      "('kitchen', 'hairline') relatedto\n",
      "('kitchen', 'meat') relatedto\n",
      "('kitchen', 'nape') relatedto\n",
      "('kitchen', 'orchestra') relatedto\n",
      "('kitchen', 'percussion') relatedto\n",
      "('kitchen', 'roast') relatedto\n",
      "('kitchen', 'uneducated') relatedto\n",
      "('kitchen', 'utensil') relatedto\n",
      "('kitchen', 'kitchen') synonym\n",
      "('kitchen', 'appliances') usedfor\n",
      "('kitchen', 'baking_pie') usedfor\n",
      "('kitchen', 'cook_food') usedfor\n",
      "('kitchen', 'cook_meal') usedfor\n",
      "('kitchen', 'cooking') usedfor\n",
      "('kitchen', 'cooking_breakfast') usedfor\n",
      "('kitchen', 'cooking_dinner') usedfor\n",
      "('kitchen', 'cooking_food') usedfor\n",
      "('kitchen', 'cooking_in') usedfor\n",
      "('kitchen', 'cooking_lunch') usedfor\n",
      "('kitchen', 'counters_and_counter_tops') usedfor\n",
      "('kitchen', 'eating_in') usedfor\n",
      "('kitchen', 'eating_meals') usedfor\n",
      "('kitchen', 'food_preparation') usedfor\n",
      "('kitchen', 'kitchen_table_and_chairs') usedfor\n",
      "('kitchen', 'storage_cabinets') usedfor\n",
      "('kitchen', 'storing_food') usedfor\n",
      "('kitchen', 'talking_in') usedfor\n",
      "('kitchen', 'washing_dishes') usedfor\n",
      "('kitchen', 'washing_in') usedfor\n"
     ]
    }
   ],
   "metadata": {}
  },
  {
   "cell_type": "code",
   "execution_count": 17,
   "source": [
    "from collections import Counter\r\n",
    "w = Counter(relations)\r\n",
    "plt.figure(figsize=(20,5))\r\n",
    "plt.bar(w.keys(),w.values())\r\n",
    "plt.show()"
   ],
   "outputs": [
    {
     "output_type": "display_data",
     "data": {
      "text/plain": [
       "<Figure size 1440x360 with 1 Axes>"
      ],
      "image/svg+xml": "<?xml version=\"1.0\" encoding=\"utf-8\" standalone=\"no\"?>\r\n<!DOCTYPE svg PUBLIC \"-//W3C//DTD SVG 1.1//EN\"\r\n  \"http://www.w3.org/Graphics/SVG/1.1/DTD/svg11.dtd\">\r\n<!-- Created with matplotlib (https://matplotlib.org/) -->\r\n<svg height=\"302.878125pt\" version=\"1.1\" viewBox=\"0 0 1159.665625 302.878125\" width=\"1159.665625pt\" xmlns=\"http://www.w3.org/2000/svg\" xmlns:xlink=\"http://www.w3.org/1999/xlink\">\r\n <metadata>\r\n  <rdf:RDF xmlns:cc=\"http://creativecommons.org/ns#\" xmlns:dc=\"http://purl.org/dc/elements/1.1/\" xmlns:rdf=\"http://www.w3.org/1999/02/22-rdf-syntax-ns#\">\r\n   <cc:Work>\r\n    <dc:type rdf:resource=\"http://purl.org/dc/dcmitype/StillImage\"/>\r\n    <dc:date>2021-08-11T09:24:21.937863</dc:date>\r\n    <dc:format>image/svg+xml</dc:format>\r\n    <dc:creator>\r\n     <cc:Agent>\r\n      <dc:title>Matplotlib v3.3.4, https://matplotlib.org/</dc:title>\r\n     </cc:Agent>\r\n    </dc:creator>\r\n   </cc:Work>\r\n  </rdf:RDF>\r\n </metadata>\r\n <defs>\r\n  <style type=\"text/css\">*{stroke-linecap:butt;stroke-linejoin:round;}</style>\r\n </defs>\r\n <g id=\"figure_1\">\r\n  <g id=\"patch_1\">\r\n   <path d=\"M 0 302.878125 \r\nL 1159.665625 302.878125 \r\nL 1159.665625 0 \r\nL 0 0 \r\nz\r\n\" style=\"fill:none;\"/>\r\n  </g>\r\n  <g id=\"axes_1\">\r\n   <g id=\"patch_2\">\r\n    <path d=\"M 36.465625 279 \r\nL 1152.465625 279 \r\nL 1152.465625 7.2 \r\nL 36.465625 7.2 \r\nz\r\n\" style=\"fill:#ffffff;\"/>\r\n   </g>\r\n   <g id=\"patch_3\">\r\n    <path clip-path=\"url(#p6a45647bdf)\" d=\"M 87.192898 279 \r\nL 162.344413 279 \r\nL 162.344413 110.742857 \r\nL 87.192898 110.742857 \r\nz\r\n\" style=\"fill:#1f77b4;\"/>\r\n   </g>\r\n   <g id=\"patch_4\">\r\n    <path clip-path=\"url(#p6a45647bdf)\" d=\"M 181.132292 279 \r\nL 256.283807 279 \r\nL 256.283807 253.114286 \r\nL 181.132292 253.114286 \r\nz\r\n\" style=\"fill:#1f77b4;\"/>\r\n   </g>\r\n   <g id=\"patch_5\">\r\n    <path clip-path=\"url(#p6a45647bdf)\" d=\"M 275.071686 279 \r\nL 350.223201 279 \r\nL 350.223201 227.228571 \r\nL 275.071686 227.228571 \r\nz\r\n\" style=\"fill:#1f77b4;\"/>\r\n   </g>\r\n   <g id=\"patch_6\">\r\n    <path clip-path=\"url(#p6a45647bdf)\" d=\"M 369.01108 279 \r\nL 444.162595 279 \r\nL 444.162595 253.114286 \r\nL 369.01108 253.114286 \r\nz\r\n\" style=\"fill:#1f77b4;\"/>\r\n   </g>\r\n   <g id=\"patch_7\">\r\n    <path clip-path=\"url(#p6a45647bdf)\" d=\"M 462.950473 279 \r\nL 538.101989 279 \r\nL 538.101989 266.057143 \r\nL 462.950473 266.057143 \r\nz\r\n\" style=\"fill:#1f77b4;\"/>\r\n   </g>\r\n   <g id=\"patch_8\">\r\n    <path clip-path=\"url(#p6a45647bdf)\" d=\"M 556.889867 279 \r\nL 632.041383 279 \r\nL 632.041383 149.571429 \r\nL 556.889867 149.571429 \r\nz\r\n\" style=\"fill:#1f77b4;\"/>\r\n   </g>\r\n   <g id=\"patch_9\">\r\n    <path clip-path=\"url(#p6a45647bdf)\" d=\"M 650.829261 279 \r\nL 725.980777 279 \r\nL 725.980777 266.057143 \r\nL 650.829261 266.057143 \r\nz\r\n\" style=\"fill:#1f77b4;\"/>\r\n   </g>\r\n   <g id=\"patch_10\">\r\n    <path clip-path=\"url(#p6a45647bdf)\" d=\"M 744.768655 279 \r\nL 819.92017 279 \r\nL 819.92017 253.114286 \r\nL 744.768655 253.114286 \r\nz\r\n\" style=\"fill:#1f77b4;\"/>\r\n   </g>\r\n   <g id=\"patch_11\">\r\n    <path clip-path=\"url(#p6a45647bdf)\" d=\"M 838.708049 279 \r\nL 913.859564 279 \r\nL 913.859564 162.514286 \r\nL 838.708049 162.514286 \r\nz\r\n\" style=\"fill:#1f77b4;\"/>\r\n   </g>\r\n   <g id=\"patch_12\">\r\n    <path clip-path=\"url(#p6a45647bdf)\" d=\"M 932.647443 279 \r\nL 1007.798958 279 \r\nL 1007.798958 266.057143 \r\nL 932.647443 266.057143 \r\nz\r\n\" style=\"fill:#1f77b4;\"/>\r\n   </g>\r\n   <g id=\"patch_13\">\r\n    <path clip-path=\"url(#p6a45647bdf)\" d=\"M 1026.586837 279 \r\nL 1101.738352 279 \r\nL 1101.738352 20.142857 \r\nL 1026.586837 20.142857 \r\nz\r\n\" style=\"fill:#1f77b4;\"/>\r\n   </g>\r\n   <g id=\"matplotlib.axis_1\">\r\n    <g id=\"xtick_1\">\r\n     <g id=\"line2d_1\">\r\n      <defs>\r\n       <path d=\"M 0 0 \r\nL 0 3.5 \r\n\" id=\"mca5a6c0f82\" style=\"stroke:#000000;stroke-width:0.8;\"/>\r\n      </defs>\r\n      <g>\r\n       <use style=\"stroke:#000000;stroke-width:0.8;\" x=\"124.768655\" xlink:href=\"#mca5a6c0f82\" y=\"279\"/>\r\n      </g>\r\n     </g>\r\n     <g id=\"text_1\">\r\n      <!-- atlocation -->\r\n      <g transform=\"translate(99.905374 293.598437)scale(0.1 -0.1)\">\r\n       <defs>\r\n        <path d=\"M 34.28125 27.484375 \r\nQ 23.390625 27.484375 19.1875 25 \r\nQ 14.984375 22.515625 14.984375 16.5 \r\nQ 14.984375 11.71875 18.140625 8.90625 \r\nQ 21.296875 6.109375 26.703125 6.109375 \r\nQ 34.1875 6.109375 38.703125 11.40625 \r\nQ 43.21875 16.703125 43.21875 25.484375 \r\nL 43.21875 27.484375 \r\nz\r\nM 52.203125 31.203125 \r\nL 52.203125 0 \r\nL 43.21875 0 \r\nL 43.21875 8.296875 \r\nQ 40.140625 3.328125 35.546875 0.953125 \r\nQ 30.953125 -1.421875 24.3125 -1.421875 \r\nQ 15.921875 -1.421875 10.953125 3.296875 \r\nQ 6 8.015625 6 15.921875 \r\nQ 6 25.140625 12.171875 29.828125 \r\nQ 18.359375 34.515625 30.609375 34.515625 \r\nL 43.21875 34.515625 \r\nL 43.21875 35.40625 \r\nQ 43.21875 41.609375 39.140625 45 \r\nQ 35.0625 48.390625 27.6875 48.390625 \r\nQ 23 48.390625 18.546875 47.265625 \r\nQ 14.109375 46.140625 10.015625 43.890625 \r\nL 10.015625 52.203125 \r\nQ 14.9375 54.109375 19.578125 55.046875 \r\nQ 24.21875 56 28.609375 56 \r\nQ 40.484375 56 46.34375 49.84375 \r\nQ 52.203125 43.703125 52.203125 31.203125 \r\nz\r\n\" id=\"DejaVuSans-97\"/>\r\n        <path d=\"M 18.3125 70.21875 \r\nL 18.3125 54.6875 \r\nL 36.8125 54.6875 \r\nL 36.8125 47.703125 \r\nL 18.3125 47.703125 \r\nL 18.3125 18.015625 \r\nQ 18.3125 11.328125 20.140625 9.421875 \r\nQ 21.96875 7.515625 27.59375 7.515625 \r\nL 36.8125 7.515625 \r\nL 36.8125 0 \r\nL 27.59375 0 \r\nQ 17.1875 0 13.234375 3.875 \r\nQ 9.28125 7.765625 9.28125 18.015625 \r\nL 9.28125 47.703125 \r\nL 2.6875 47.703125 \r\nL 2.6875 54.6875 \r\nL 9.28125 54.6875 \r\nL 9.28125 70.21875 \r\nz\r\n\" id=\"DejaVuSans-116\"/>\r\n        <path d=\"M 9.421875 75.984375 \r\nL 18.40625 75.984375 \r\nL 18.40625 0 \r\nL 9.421875 0 \r\nz\r\n\" id=\"DejaVuSans-108\"/>\r\n        <path d=\"M 30.609375 48.390625 \r\nQ 23.390625 48.390625 19.1875 42.75 \r\nQ 14.984375 37.109375 14.984375 27.296875 \r\nQ 14.984375 17.484375 19.15625 11.84375 \r\nQ 23.34375 6.203125 30.609375 6.203125 \r\nQ 37.796875 6.203125 41.984375 11.859375 \r\nQ 46.1875 17.53125 46.1875 27.296875 \r\nQ 46.1875 37.015625 41.984375 42.703125 \r\nQ 37.796875 48.390625 30.609375 48.390625 \r\nz\r\nM 30.609375 56 \r\nQ 42.328125 56 49.015625 48.375 \r\nQ 55.71875 40.765625 55.71875 27.296875 \r\nQ 55.71875 13.875 49.015625 6.21875 \r\nQ 42.328125 -1.421875 30.609375 -1.421875 \r\nQ 18.84375 -1.421875 12.171875 6.21875 \r\nQ 5.515625 13.875 5.515625 27.296875 \r\nQ 5.515625 40.765625 12.171875 48.375 \r\nQ 18.84375 56 30.609375 56 \r\nz\r\n\" id=\"DejaVuSans-111\"/>\r\n        <path d=\"M 48.78125 52.59375 \r\nL 48.78125 44.1875 \r\nQ 44.96875 46.296875 41.140625 47.34375 \r\nQ 37.3125 48.390625 33.40625 48.390625 \r\nQ 24.65625 48.390625 19.8125 42.84375 \r\nQ 14.984375 37.3125 14.984375 27.296875 \r\nQ 14.984375 17.28125 19.8125 11.734375 \r\nQ 24.65625 6.203125 33.40625 6.203125 \r\nQ 37.3125 6.203125 41.140625 7.25 \r\nQ 44.96875 8.296875 48.78125 10.40625 \r\nL 48.78125 2.09375 \r\nQ 45.015625 0.34375 40.984375 -0.53125 \r\nQ 36.96875 -1.421875 32.421875 -1.421875 \r\nQ 20.0625 -1.421875 12.78125 6.34375 \r\nQ 5.515625 14.109375 5.515625 27.296875 \r\nQ 5.515625 40.671875 12.859375 48.328125 \r\nQ 20.21875 56 33.015625 56 \r\nQ 37.15625 56 41.109375 55.140625 \r\nQ 45.0625 54.296875 48.78125 52.59375 \r\nz\r\n\" id=\"DejaVuSans-99\"/>\r\n        <path d=\"M 9.421875 54.6875 \r\nL 18.40625 54.6875 \r\nL 18.40625 0 \r\nL 9.421875 0 \r\nz\r\nM 9.421875 75.984375 \r\nL 18.40625 75.984375 \r\nL 18.40625 64.59375 \r\nL 9.421875 64.59375 \r\nz\r\n\" id=\"DejaVuSans-105\"/>\r\n        <path d=\"M 54.890625 33.015625 \r\nL 54.890625 0 \r\nL 45.90625 0 \r\nL 45.90625 32.71875 \r\nQ 45.90625 40.484375 42.875 44.328125 \r\nQ 39.84375 48.1875 33.796875 48.1875 \r\nQ 26.515625 48.1875 22.3125 43.546875 \r\nQ 18.109375 38.921875 18.109375 30.90625 \r\nL 18.109375 0 \r\nL 9.078125 0 \r\nL 9.078125 54.6875 \r\nL 18.109375 54.6875 \r\nL 18.109375 46.1875 \r\nQ 21.34375 51.125 25.703125 53.5625 \r\nQ 30.078125 56 35.796875 56 \r\nQ 45.21875 56 50.046875 50.171875 \r\nQ 54.890625 44.34375 54.890625 33.015625 \r\nz\r\n\" id=\"DejaVuSans-110\"/>\r\n       </defs>\r\n       <use xlink:href=\"#DejaVuSans-97\"/>\r\n       <use x=\"61.279297\" xlink:href=\"#DejaVuSans-116\"/>\r\n       <use x=\"100.488281\" xlink:href=\"#DejaVuSans-108\"/>\r\n       <use x=\"128.271484\" xlink:href=\"#DejaVuSans-111\"/>\r\n       <use x=\"189.453125\" xlink:href=\"#DejaVuSans-99\"/>\r\n       <use x=\"244.433594\" xlink:href=\"#DejaVuSans-97\"/>\r\n       <use x=\"305.712891\" xlink:href=\"#DejaVuSans-116\"/>\r\n       <use x=\"344.921875\" xlink:href=\"#DejaVuSans-105\"/>\r\n       <use x=\"372.705078\" xlink:href=\"#DejaVuSans-111\"/>\r\n       <use x=\"433.886719\" xlink:href=\"#DejaVuSans-110\"/>\r\n      </g>\r\n     </g>\r\n    </g>\r\n    <g id=\"xtick_2\">\r\n     <g id=\"line2d_2\">\r\n      <g>\r\n       <use style=\"stroke:#000000;stroke-width:0.8;\" x=\"218.708049\" xlink:href=\"#mca5a6c0f82\" y=\"279\"/>\r\n      </g>\r\n     </g>\r\n     <g id=\"text_2\">\r\n      <!-- derivedfrom -->\r\n      <g transform=\"translate(188.169768 293.598437)scale(0.1 -0.1)\">\r\n       <defs>\r\n        <path d=\"M 45.40625 46.390625 \r\nL 45.40625 75.984375 \r\nL 54.390625 75.984375 \r\nL 54.390625 0 \r\nL 45.40625 0 \r\nL 45.40625 8.203125 \r\nQ 42.578125 3.328125 38.25 0.953125 \r\nQ 33.9375 -1.421875 27.875 -1.421875 \r\nQ 17.96875 -1.421875 11.734375 6.484375 \r\nQ 5.515625 14.40625 5.515625 27.296875 \r\nQ 5.515625 40.1875 11.734375 48.09375 \r\nQ 17.96875 56 27.875 56 \r\nQ 33.9375 56 38.25 53.625 \r\nQ 42.578125 51.265625 45.40625 46.390625 \r\nz\r\nM 14.796875 27.296875 \r\nQ 14.796875 17.390625 18.875 11.75 \r\nQ 22.953125 6.109375 30.078125 6.109375 \r\nQ 37.203125 6.109375 41.296875 11.75 \r\nQ 45.40625 17.390625 45.40625 27.296875 \r\nQ 45.40625 37.203125 41.296875 42.84375 \r\nQ 37.203125 48.484375 30.078125 48.484375 \r\nQ 22.953125 48.484375 18.875 42.84375 \r\nQ 14.796875 37.203125 14.796875 27.296875 \r\nz\r\n\" id=\"DejaVuSans-100\"/>\r\n        <path d=\"M 56.203125 29.59375 \r\nL 56.203125 25.203125 \r\nL 14.890625 25.203125 \r\nQ 15.484375 15.921875 20.484375 11.0625 \r\nQ 25.484375 6.203125 34.421875 6.203125 \r\nQ 39.59375 6.203125 44.453125 7.46875 \r\nQ 49.3125 8.734375 54.109375 11.28125 \r\nL 54.109375 2.78125 \r\nQ 49.265625 0.734375 44.1875 -0.34375 \r\nQ 39.109375 -1.421875 33.890625 -1.421875 \r\nQ 20.796875 -1.421875 13.15625 6.1875 \r\nQ 5.515625 13.8125 5.515625 26.8125 \r\nQ 5.515625 40.234375 12.765625 48.109375 \r\nQ 20.015625 56 32.328125 56 \r\nQ 43.359375 56 49.78125 48.890625 \r\nQ 56.203125 41.796875 56.203125 29.59375 \r\nz\r\nM 47.21875 32.234375 \r\nQ 47.125 39.59375 43.09375 43.984375 \r\nQ 39.0625 48.390625 32.421875 48.390625 \r\nQ 24.90625 48.390625 20.390625 44.140625 \r\nQ 15.875 39.890625 15.1875 32.171875 \r\nz\r\n\" id=\"DejaVuSans-101\"/>\r\n        <path d=\"M 41.109375 46.296875 \r\nQ 39.59375 47.171875 37.8125 47.578125 \r\nQ 36.03125 48 33.890625 48 \r\nQ 26.265625 48 22.1875 43.046875 \r\nQ 18.109375 38.09375 18.109375 28.8125 \r\nL 18.109375 0 \r\nL 9.078125 0 \r\nL 9.078125 54.6875 \r\nL 18.109375 54.6875 \r\nL 18.109375 46.1875 \r\nQ 20.953125 51.171875 25.484375 53.578125 \r\nQ 30.03125 56 36.53125 56 \r\nQ 37.453125 56 38.578125 55.875 \r\nQ 39.703125 55.765625 41.0625 55.515625 \r\nz\r\n\" id=\"DejaVuSans-114\"/>\r\n        <path d=\"M 2.984375 54.6875 \r\nL 12.5 54.6875 \r\nL 29.59375 8.796875 \r\nL 46.6875 54.6875 \r\nL 56.203125 54.6875 \r\nL 35.6875 0 \r\nL 23.484375 0 \r\nz\r\n\" id=\"DejaVuSans-118\"/>\r\n        <path d=\"M 37.109375 75.984375 \r\nL 37.109375 68.5 \r\nL 28.515625 68.5 \r\nQ 23.6875 68.5 21.796875 66.546875 \r\nQ 19.921875 64.59375 19.921875 59.515625 \r\nL 19.921875 54.6875 \r\nL 34.71875 54.6875 \r\nL 34.71875 47.703125 \r\nL 19.921875 47.703125 \r\nL 19.921875 0 \r\nL 10.890625 0 \r\nL 10.890625 47.703125 \r\nL 2.296875 47.703125 \r\nL 2.296875 54.6875 \r\nL 10.890625 54.6875 \r\nL 10.890625 58.5 \r\nQ 10.890625 67.625 15.140625 71.796875 \r\nQ 19.390625 75.984375 28.609375 75.984375 \r\nz\r\n\" id=\"DejaVuSans-102\"/>\r\n        <path d=\"M 52 44.1875 \r\nQ 55.375 50.25 60.0625 53.125 \r\nQ 64.75 56 71.09375 56 \r\nQ 79.640625 56 84.28125 50.015625 \r\nQ 88.921875 44.046875 88.921875 33.015625 \r\nL 88.921875 0 \r\nL 79.890625 0 \r\nL 79.890625 32.71875 \r\nQ 79.890625 40.578125 77.09375 44.375 \r\nQ 74.3125 48.1875 68.609375 48.1875 \r\nQ 61.625 48.1875 57.5625 43.546875 \r\nQ 53.515625 38.921875 53.515625 30.90625 \r\nL 53.515625 0 \r\nL 44.484375 0 \r\nL 44.484375 32.71875 \r\nQ 44.484375 40.625 41.703125 44.40625 \r\nQ 38.921875 48.1875 33.109375 48.1875 \r\nQ 26.21875 48.1875 22.15625 43.53125 \r\nQ 18.109375 38.875 18.109375 30.90625 \r\nL 18.109375 0 \r\nL 9.078125 0 \r\nL 9.078125 54.6875 \r\nL 18.109375 54.6875 \r\nL 18.109375 46.1875 \r\nQ 21.1875 51.21875 25.484375 53.609375 \r\nQ 29.78125 56 35.6875 56 \r\nQ 41.65625 56 45.828125 52.96875 \r\nQ 50 49.953125 52 44.1875 \r\nz\r\n\" id=\"DejaVuSans-109\"/>\r\n       </defs>\r\n       <use xlink:href=\"#DejaVuSans-100\"/>\r\n       <use x=\"63.476562\" xlink:href=\"#DejaVuSans-101\"/>\r\n       <use x=\"125\" xlink:href=\"#DejaVuSans-114\"/>\r\n       <use x=\"166.113281\" xlink:href=\"#DejaVuSans-105\"/>\r\n       <use x=\"193.896484\" xlink:href=\"#DejaVuSans-118\"/>\r\n       <use x=\"253.076172\" xlink:href=\"#DejaVuSans-101\"/>\r\n       <use x=\"314.599609\" xlink:href=\"#DejaVuSans-100\"/>\r\n       <use x=\"378.076172\" xlink:href=\"#DejaVuSans-102\"/>\r\n       <use x=\"413.28125\" xlink:href=\"#DejaVuSans-114\"/>\r\n       <use x=\"452.144531\" xlink:href=\"#DejaVuSans-111\"/>\r\n       <use x=\"513.326172\" xlink:href=\"#DejaVuSans-109\"/>\r\n      </g>\r\n     </g>\r\n    </g>\r\n    <g id=\"xtick_3\">\r\n     <g id=\"line2d_3\">\r\n      <g>\r\n       <use style=\"stroke:#000000;stroke-width:0.8;\" x=\"312.647443\" xlink:href=\"#mca5a6c0f82\" y=\"279\"/>\r\n      </g>\r\n     </g>\r\n     <g id=\"text_3\">\r\n      <!-- etymologicallyrelatedto -->\r\n      <g transform=\"translate(253.456037 293.598437)scale(0.1 -0.1)\">\r\n       <defs>\r\n        <path d=\"M 32.171875 -5.078125 \r\nQ 28.375 -14.84375 24.75 -17.8125 \r\nQ 21.140625 -20.796875 15.09375 -20.796875 \r\nL 7.90625 -20.796875 \r\nL 7.90625 -13.28125 \r\nL 13.1875 -13.28125 \r\nQ 16.890625 -13.28125 18.9375 -11.515625 \r\nQ 21 -9.765625 23.484375 -3.21875 \r\nL 25.09375 0.875 \r\nL 2.984375 54.6875 \r\nL 12.5 54.6875 \r\nL 29.59375 11.921875 \r\nL 46.6875 54.6875 \r\nL 56.203125 54.6875 \r\nz\r\n\" id=\"DejaVuSans-121\"/>\r\n        <path d=\"M 45.40625 27.984375 \r\nQ 45.40625 37.75 41.375 43.109375 \r\nQ 37.359375 48.484375 30.078125 48.484375 \r\nQ 22.859375 48.484375 18.828125 43.109375 \r\nQ 14.796875 37.75 14.796875 27.984375 \r\nQ 14.796875 18.265625 18.828125 12.890625 \r\nQ 22.859375 7.515625 30.078125 7.515625 \r\nQ 37.359375 7.515625 41.375 12.890625 \r\nQ 45.40625 18.265625 45.40625 27.984375 \r\nz\r\nM 54.390625 6.78125 \r\nQ 54.390625 -7.171875 48.1875 -13.984375 \r\nQ 42 -20.796875 29.203125 -20.796875 \r\nQ 24.46875 -20.796875 20.265625 -20.09375 \r\nQ 16.0625 -19.390625 12.109375 -17.921875 \r\nL 12.109375 -9.1875 \r\nQ 16.0625 -11.328125 19.921875 -12.34375 \r\nQ 23.78125 -13.375 27.78125 -13.375 \r\nQ 36.625 -13.375 41.015625 -8.765625 \r\nQ 45.40625 -4.15625 45.40625 5.171875 \r\nL 45.40625 9.625 \r\nQ 42.625 4.78125 38.28125 2.390625 \r\nQ 33.9375 0 27.875 0 \r\nQ 17.828125 0 11.671875 7.65625 \r\nQ 5.515625 15.328125 5.515625 27.984375 \r\nQ 5.515625 40.671875 11.671875 48.328125 \r\nQ 17.828125 56 27.875 56 \r\nQ 33.9375 56 38.28125 53.609375 \r\nQ 42.625 51.21875 45.40625 46.390625 \r\nL 45.40625 54.6875 \r\nL 54.390625 54.6875 \r\nz\r\n\" id=\"DejaVuSans-103\"/>\r\n       </defs>\r\n       <use xlink:href=\"#DejaVuSans-101\"/>\r\n       <use x=\"61.523438\" xlink:href=\"#DejaVuSans-116\"/>\r\n       <use x=\"100.732422\" xlink:href=\"#DejaVuSans-121\"/>\r\n       <use x=\"159.912109\" xlink:href=\"#DejaVuSans-109\"/>\r\n       <use x=\"257.324219\" xlink:href=\"#DejaVuSans-111\"/>\r\n       <use x=\"318.505859\" xlink:href=\"#DejaVuSans-108\"/>\r\n       <use x=\"346.289062\" xlink:href=\"#DejaVuSans-111\"/>\r\n       <use x=\"407.470703\" xlink:href=\"#DejaVuSans-103\"/>\r\n       <use x=\"470.947266\" xlink:href=\"#DejaVuSans-105\"/>\r\n       <use x=\"498.730469\" xlink:href=\"#DejaVuSans-99\"/>\r\n       <use x=\"553.710938\" xlink:href=\"#DejaVuSans-97\"/>\r\n       <use x=\"614.990234\" xlink:href=\"#DejaVuSans-108\"/>\r\n       <use x=\"642.773438\" xlink:href=\"#DejaVuSans-108\"/>\r\n       <use x=\"670.556641\" xlink:href=\"#DejaVuSans-121\"/>\r\n       <use x=\"729.736328\" xlink:href=\"#DejaVuSans-114\"/>\r\n       <use x=\"768.599609\" xlink:href=\"#DejaVuSans-101\"/>\r\n       <use x=\"830.123047\" xlink:href=\"#DejaVuSans-108\"/>\r\n       <use x=\"857.90625\" xlink:href=\"#DejaVuSans-97\"/>\r\n       <use x=\"919.185547\" xlink:href=\"#DejaVuSans-116\"/>\r\n       <use x=\"958.394531\" xlink:href=\"#DejaVuSans-101\"/>\r\n       <use x=\"1019.917969\" xlink:href=\"#DejaVuSans-100\"/>\r\n       <use x=\"1083.394531\" xlink:href=\"#DejaVuSans-116\"/>\r\n       <use x=\"1122.603516\" xlink:href=\"#DejaVuSans-111\"/>\r\n      </g>\r\n     </g>\r\n    </g>\r\n    <g id=\"xtick_4\">\r\n     <g id=\"line2d_4\">\r\n      <g>\r\n       <use style=\"stroke:#000000;stroke-width:0.8;\" x=\"406.586837\" xlink:href=\"#mca5a6c0f82\" y=\"279\"/>\r\n      </g>\r\n     </g>\r\n     <g id=\"text_4\">\r\n      <!-- hascontext -->\r\n      <g transform=\"translate(378.903243 293.598437)scale(0.1 -0.1)\">\r\n       <defs>\r\n        <path d=\"M 54.890625 33.015625 \r\nL 54.890625 0 \r\nL 45.90625 0 \r\nL 45.90625 32.71875 \r\nQ 45.90625 40.484375 42.875 44.328125 \r\nQ 39.84375 48.1875 33.796875 48.1875 \r\nQ 26.515625 48.1875 22.3125 43.546875 \r\nQ 18.109375 38.921875 18.109375 30.90625 \r\nL 18.109375 0 \r\nL 9.078125 0 \r\nL 9.078125 75.984375 \r\nL 18.109375 75.984375 \r\nL 18.109375 46.1875 \r\nQ 21.34375 51.125 25.703125 53.5625 \r\nQ 30.078125 56 35.796875 56 \r\nQ 45.21875 56 50.046875 50.171875 \r\nQ 54.890625 44.34375 54.890625 33.015625 \r\nz\r\n\" id=\"DejaVuSans-104\"/>\r\n        <path d=\"M 44.28125 53.078125 \r\nL 44.28125 44.578125 \r\nQ 40.484375 46.53125 36.375 47.5 \r\nQ 32.28125 48.484375 27.875 48.484375 \r\nQ 21.1875 48.484375 17.84375 46.4375 \r\nQ 14.5 44.390625 14.5 40.28125 \r\nQ 14.5 37.15625 16.890625 35.375 \r\nQ 19.28125 33.59375 26.515625 31.984375 \r\nL 29.59375 31.296875 \r\nQ 39.15625 29.25 43.1875 25.515625 \r\nQ 47.21875 21.78125 47.21875 15.09375 \r\nQ 47.21875 7.46875 41.1875 3.015625 \r\nQ 35.15625 -1.421875 24.609375 -1.421875 \r\nQ 20.21875 -1.421875 15.453125 -0.5625 \r\nQ 10.6875 0.296875 5.421875 2 \r\nL 5.421875 11.28125 \r\nQ 10.40625 8.6875 15.234375 7.390625 \r\nQ 20.0625 6.109375 24.8125 6.109375 \r\nQ 31.15625 6.109375 34.5625 8.28125 \r\nQ 37.984375 10.453125 37.984375 14.40625 \r\nQ 37.984375 18.0625 35.515625 20.015625 \r\nQ 33.0625 21.96875 24.703125 23.78125 \r\nL 21.578125 24.515625 \r\nQ 13.234375 26.265625 9.515625 29.90625 \r\nQ 5.8125 33.546875 5.8125 39.890625 \r\nQ 5.8125 47.609375 11.28125 51.796875 \r\nQ 16.75 56 26.8125 56 \r\nQ 31.78125 56 36.171875 55.265625 \r\nQ 40.578125 54.546875 44.28125 53.078125 \r\nz\r\n\" id=\"DejaVuSans-115\"/>\r\n        <path d=\"M 54.890625 54.6875 \r\nL 35.109375 28.078125 \r\nL 55.90625 0 \r\nL 45.3125 0 \r\nL 29.390625 21.484375 \r\nL 13.484375 0 \r\nL 2.875 0 \r\nL 24.125 28.609375 \r\nL 4.6875 54.6875 \r\nL 15.28125 54.6875 \r\nL 29.78125 35.203125 \r\nL 44.28125 54.6875 \r\nz\r\n\" id=\"DejaVuSans-120\"/>\r\n       </defs>\r\n       <use xlink:href=\"#DejaVuSans-104\"/>\r\n       <use x=\"63.378906\" xlink:href=\"#DejaVuSans-97\"/>\r\n       <use x=\"124.658203\" xlink:href=\"#DejaVuSans-115\"/>\r\n       <use x=\"176.757812\" xlink:href=\"#DejaVuSans-99\"/>\r\n       <use x=\"231.738281\" xlink:href=\"#DejaVuSans-111\"/>\r\n       <use x=\"292.919922\" xlink:href=\"#DejaVuSans-110\"/>\r\n       <use x=\"356.298828\" xlink:href=\"#DejaVuSans-116\"/>\r\n       <use x=\"395.507812\" xlink:href=\"#DejaVuSans-101\"/>\r\n       <use x=\"455.28125\" xlink:href=\"#DejaVuSans-120\"/>\r\n       <use x=\"514.460938\" xlink:href=\"#DejaVuSans-116\"/>\r\n      </g>\r\n     </g>\r\n    </g>\r\n    <g id=\"xtick_5\">\r\n     <g id=\"line2d_5\">\r\n      <g>\r\n       <use style=\"stroke:#000000;stroke-width:0.8;\" x=\"500.526231\" xlink:href=\"#mca5a6c0f82\" y=\"279\"/>\r\n      </g>\r\n     </g>\r\n     <g id=\"text_5\">\r\n      <!-- hasproperty -->\r\n      <g transform=\"translate(470.286387 293.598437)scale(0.1 -0.1)\">\r\n       <defs>\r\n        <path d=\"M 18.109375 8.203125 \r\nL 18.109375 -20.796875 \r\nL 9.078125 -20.796875 \r\nL 9.078125 54.6875 \r\nL 18.109375 54.6875 \r\nL 18.109375 46.390625 \r\nQ 20.953125 51.265625 25.265625 53.625 \r\nQ 29.59375 56 35.59375 56 \r\nQ 45.5625 56 51.78125 48.09375 \r\nQ 58.015625 40.1875 58.015625 27.296875 \r\nQ 58.015625 14.40625 51.78125 6.484375 \r\nQ 45.5625 -1.421875 35.59375 -1.421875 \r\nQ 29.59375 -1.421875 25.265625 0.953125 \r\nQ 20.953125 3.328125 18.109375 8.203125 \r\nz\r\nM 48.6875 27.296875 \r\nQ 48.6875 37.203125 44.609375 42.84375 \r\nQ 40.53125 48.484375 33.40625 48.484375 \r\nQ 26.265625 48.484375 22.1875 42.84375 \r\nQ 18.109375 37.203125 18.109375 27.296875 \r\nQ 18.109375 17.390625 22.1875 11.75 \r\nQ 26.265625 6.109375 33.40625 6.109375 \r\nQ 40.53125 6.109375 44.609375 11.75 \r\nQ 48.6875 17.390625 48.6875 27.296875 \r\nz\r\n\" id=\"DejaVuSans-112\"/>\r\n       </defs>\r\n       <use xlink:href=\"#DejaVuSans-104\"/>\r\n       <use x=\"63.378906\" xlink:href=\"#DejaVuSans-97\"/>\r\n       <use x=\"124.658203\" xlink:href=\"#DejaVuSans-115\"/>\r\n       <use x=\"176.757812\" xlink:href=\"#DejaVuSans-112\"/>\r\n       <use x=\"240.234375\" xlink:href=\"#DejaVuSans-114\"/>\r\n       <use x=\"279.097656\" xlink:href=\"#DejaVuSans-111\"/>\r\n       <use x=\"340.279297\" xlink:href=\"#DejaVuSans-112\"/>\r\n       <use x=\"403.755859\" xlink:href=\"#DejaVuSans-101\"/>\r\n       <use x=\"465.279297\" xlink:href=\"#DejaVuSans-114\"/>\r\n       <use x=\"506.392578\" xlink:href=\"#DejaVuSans-116\"/>\r\n       <use x=\"545.601562\" xlink:href=\"#DejaVuSans-121\"/>\r\n      </g>\r\n     </g>\r\n    </g>\r\n    <g id=\"xtick_6\">\r\n     <g id=\"line2d_6\">\r\n      <g>\r\n       <use style=\"stroke:#000000;stroke-width:0.8;\" x=\"594.465625\" xlink:href=\"#mca5a6c0f82\" y=\"279\"/>\r\n      </g>\r\n     </g>\r\n     <g id=\"text_6\">\r\n      <!-- isa -->\r\n      <g transform=\"translate(587.407812 293.598437)scale(0.1 -0.1)\">\r\n       <use xlink:href=\"#DejaVuSans-105\"/>\r\n       <use x=\"27.783203\" xlink:href=\"#DejaVuSans-115\"/>\r\n       <use x=\"79.882812\" xlink:href=\"#DejaVuSans-97\"/>\r\n      </g>\r\n     </g>\r\n    </g>\r\n    <g id=\"xtick_7\">\r\n     <g id=\"line2d_7\">\r\n      <g>\r\n       <use style=\"stroke:#000000;stroke-width:0.8;\" x=\"688.405019\" xlink:href=\"#mca5a6c0f82\" y=\"279\"/>\r\n      </g>\r\n     </g>\r\n     <g id=\"text_7\">\r\n      <!-- partof -->\r\n      <g transform=\"translate(673.331581 293.598437)scale(0.1 -0.1)\">\r\n       <use xlink:href=\"#DejaVuSans-112\"/>\r\n       <use x=\"63.476562\" xlink:href=\"#DejaVuSans-97\"/>\r\n       <use x=\"124.755859\" xlink:href=\"#DejaVuSans-114\"/>\r\n       <use x=\"165.869141\" xlink:href=\"#DejaVuSans-116\"/>\r\n       <use x=\"205.078125\" xlink:href=\"#DejaVuSans-111\"/>\r\n       <use x=\"266.259766\" xlink:href=\"#DejaVuSans-102\"/>\r\n      </g>\r\n     </g>\r\n    </g>\r\n    <g id=\"xtick_8\">\r\n     <g id=\"line2d_8\">\r\n      <g>\r\n       <use style=\"stroke:#000000;stroke-width:0.8;\" x=\"782.344413\" xlink:href=\"#mca5a6c0f82\" y=\"279\"/>\r\n      </g>\r\n     </g>\r\n     <g id=\"text_8\">\r\n      <!-- receivesaction -->\r\n      <g transform=\"translate(746.078788 293.598437)scale(0.1 -0.1)\">\r\n       <use xlink:href=\"#DejaVuSans-114\"/>\r\n       <use x=\"38.863281\" xlink:href=\"#DejaVuSans-101\"/>\r\n       <use x=\"100.386719\" xlink:href=\"#DejaVuSans-99\"/>\r\n       <use x=\"155.367188\" xlink:href=\"#DejaVuSans-101\"/>\r\n       <use x=\"216.890625\" xlink:href=\"#DejaVuSans-105\"/>\r\n       <use x=\"244.673828\" xlink:href=\"#DejaVuSans-118\"/>\r\n       <use x=\"303.853516\" xlink:href=\"#DejaVuSans-101\"/>\r\n       <use x=\"365.376953\" xlink:href=\"#DejaVuSans-115\"/>\r\n       <use x=\"417.476562\" xlink:href=\"#DejaVuSans-97\"/>\r\n       <use x=\"478.755859\" xlink:href=\"#DejaVuSans-99\"/>\r\n       <use x=\"533.736328\" xlink:href=\"#DejaVuSans-116\"/>\r\n       <use x=\"572.945312\" xlink:href=\"#DejaVuSans-105\"/>\r\n       <use x=\"600.728516\" xlink:href=\"#DejaVuSans-111\"/>\r\n       <use x=\"661.910156\" xlink:href=\"#DejaVuSans-110\"/>\r\n      </g>\r\n     </g>\r\n    </g>\r\n    <g id=\"xtick_9\">\r\n     <g id=\"line2d_9\">\r\n      <g>\r\n       <use style=\"stroke:#000000;stroke-width:0.8;\" x=\"876.283807\" xlink:href=\"#mca5a6c0f82\" y=\"279\"/>\r\n      </g>\r\n     </g>\r\n     <g id=\"text_9\">\r\n      <!-- relatedto -->\r\n      <g transform=\"translate(853.580682 293.598437)scale(0.1 -0.1)\">\r\n       <use xlink:href=\"#DejaVuSans-114\"/>\r\n       <use x=\"38.863281\" xlink:href=\"#DejaVuSans-101\"/>\r\n       <use x=\"100.386719\" xlink:href=\"#DejaVuSans-108\"/>\r\n       <use x=\"128.169922\" xlink:href=\"#DejaVuSans-97\"/>\r\n       <use x=\"189.449219\" xlink:href=\"#DejaVuSans-116\"/>\r\n       <use x=\"228.658203\" xlink:href=\"#DejaVuSans-101\"/>\r\n       <use x=\"290.181641\" xlink:href=\"#DejaVuSans-100\"/>\r\n       <use x=\"353.658203\" xlink:href=\"#DejaVuSans-116\"/>\r\n       <use x=\"392.867188\" xlink:href=\"#DejaVuSans-111\"/>\r\n      </g>\r\n     </g>\r\n    </g>\r\n    <g id=\"xtick_10\">\r\n     <g id=\"line2d_10\">\r\n      <g>\r\n       <use style=\"stroke:#000000;stroke-width:0.8;\" x=\"970.223201\" xlink:href=\"#mca5a6c0f82\" y=\"279\"/>\r\n      </g>\r\n     </g>\r\n     <g id=\"text_10\">\r\n      <!-- synonym -->\r\n      <g transform=\"translate(947.432576 293.598437)scale(0.1 -0.1)\">\r\n       <use xlink:href=\"#DejaVuSans-115\"/>\r\n       <use x=\"52.099609\" xlink:href=\"#DejaVuSans-121\"/>\r\n       <use x=\"111.279297\" xlink:href=\"#DejaVuSans-110\"/>\r\n       <use x=\"174.658203\" xlink:href=\"#DejaVuSans-111\"/>\r\n       <use x=\"235.839844\" xlink:href=\"#DejaVuSans-110\"/>\r\n       <use x=\"299.21875\" xlink:href=\"#DejaVuSans-121\"/>\r\n       <use x=\"358.398438\" xlink:href=\"#DejaVuSans-109\"/>\r\n      </g>\r\n     </g>\r\n    </g>\r\n    <g id=\"xtick_11\">\r\n     <g id=\"line2d_11\">\r\n      <g>\r\n       <use style=\"stroke:#000000;stroke-width:0.8;\" x=\"1064.162595\" xlink:href=\"#mca5a6c0f82\" y=\"279\"/>\r\n      </g>\r\n     </g>\r\n     <g id=\"text_11\">\r\n      <!-- usedfor -->\r\n      <g transform=\"translate(1045.263376 293.598437)scale(0.1 -0.1)\">\r\n       <defs>\r\n        <path d=\"M 8.5 21.578125 \r\nL 8.5 54.6875 \r\nL 17.484375 54.6875 \r\nL 17.484375 21.921875 \r\nQ 17.484375 14.15625 20.5 10.265625 \r\nQ 23.53125 6.390625 29.59375 6.390625 \r\nQ 36.859375 6.390625 41.078125 11.03125 \r\nQ 45.3125 15.671875 45.3125 23.6875 \r\nL 45.3125 54.6875 \r\nL 54.296875 54.6875 \r\nL 54.296875 0 \r\nL 45.3125 0 \r\nL 45.3125 8.40625 \r\nQ 42.046875 3.421875 37.71875 1 \r\nQ 33.40625 -1.421875 27.6875 -1.421875 \r\nQ 18.265625 -1.421875 13.375 4.4375 \r\nQ 8.5 10.296875 8.5 21.578125 \r\nz\r\nM 31.109375 56 \r\nz\r\n\" id=\"DejaVuSans-117\"/>\r\n       </defs>\r\n       <use xlink:href=\"#DejaVuSans-117\"/>\r\n       <use x=\"63.378906\" xlink:href=\"#DejaVuSans-115\"/>\r\n       <use x=\"115.478516\" xlink:href=\"#DejaVuSans-101\"/>\r\n       <use x=\"177.001953\" xlink:href=\"#DejaVuSans-100\"/>\r\n       <use x=\"240.478516\" xlink:href=\"#DejaVuSans-102\"/>\r\n       <use x=\"275.683594\" xlink:href=\"#DejaVuSans-111\"/>\r\n       <use x=\"336.865234\" xlink:href=\"#DejaVuSans-114\"/>\r\n      </g>\r\n     </g>\r\n    </g>\r\n   </g>\r\n   <g id=\"matplotlib.axis_2\">\r\n    <g id=\"ytick_1\">\r\n     <g id=\"line2d_12\">\r\n      <defs>\r\n       <path d=\"M 0 0 \r\nL -3.5 0 \r\n\" id=\"me1b389c219\" style=\"stroke:#000000;stroke-width:0.8;\"/>\r\n      </defs>\r\n      <g>\r\n       <use style=\"stroke:#000000;stroke-width:0.8;\" x=\"36.465625\" xlink:href=\"#me1b389c219\" y=\"279\"/>\r\n      </g>\r\n     </g>\r\n     <g id=\"text_12\">\r\n      <!-- 0.0 -->\r\n      <g transform=\"translate(13.5625 282.799219)scale(0.1 -0.1)\">\r\n       <defs>\r\n        <path d=\"M 31.78125 66.40625 \r\nQ 24.171875 66.40625 20.328125 58.90625 \r\nQ 16.5 51.421875 16.5 36.375 \r\nQ 16.5 21.390625 20.328125 13.890625 \r\nQ 24.171875 6.390625 31.78125 6.390625 \r\nQ 39.453125 6.390625 43.28125 13.890625 \r\nQ 47.125 21.390625 47.125 36.375 \r\nQ 47.125 51.421875 43.28125 58.90625 \r\nQ 39.453125 66.40625 31.78125 66.40625 \r\nz\r\nM 31.78125 74.21875 \r\nQ 44.046875 74.21875 50.515625 64.515625 \r\nQ 56.984375 54.828125 56.984375 36.375 \r\nQ 56.984375 17.96875 50.515625 8.265625 \r\nQ 44.046875 -1.421875 31.78125 -1.421875 \r\nQ 19.53125 -1.421875 13.0625 8.265625 \r\nQ 6.59375 17.96875 6.59375 36.375 \r\nQ 6.59375 54.828125 13.0625 64.515625 \r\nQ 19.53125 74.21875 31.78125 74.21875 \r\nz\r\n\" id=\"DejaVuSans-48\"/>\r\n        <path d=\"M 10.6875 12.40625 \r\nL 21 12.40625 \r\nL 21 0 \r\nL 10.6875 0 \r\nz\r\n\" id=\"DejaVuSans-46\"/>\r\n       </defs>\r\n       <use xlink:href=\"#DejaVuSans-48\"/>\r\n       <use x=\"63.623047\" xlink:href=\"#DejaVuSans-46\"/>\r\n       <use x=\"95.410156\" xlink:href=\"#DejaVuSans-48\"/>\r\n      </g>\r\n     </g>\r\n    </g>\r\n    <g id=\"ytick_2\">\r\n     <g id=\"line2d_13\">\r\n      <g>\r\n       <use style=\"stroke:#000000;stroke-width:0.8;\" x=\"36.465625\" xlink:href=\"#me1b389c219\" y=\"246.642857\"/>\r\n      </g>\r\n     </g>\r\n     <g id=\"text_13\">\r\n      <!-- 2.5 -->\r\n      <g transform=\"translate(13.5625 250.442076)scale(0.1 -0.1)\">\r\n       <defs>\r\n        <path d=\"M 19.1875 8.296875 \r\nL 53.609375 8.296875 \r\nL 53.609375 0 \r\nL 7.328125 0 \r\nL 7.328125 8.296875 \r\nQ 12.9375 14.109375 22.625 23.890625 \r\nQ 32.328125 33.6875 34.8125 36.53125 \r\nQ 39.546875 41.84375 41.421875 45.53125 \r\nQ 43.3125 49.21875 43.3125 52.78125 \r\nQ 43.3125 58.59375 39.234375 62.25 \r\nQ 35.15625 65.921875 28.609375 65.921875 \r\nQ 23.96875 65.921875 18.8125 64.3125 \r\nQ 13.671875 62.703125 7.8125 59.421875 \r\nL 7.8125 69.390625 \r\nQ 13.765625 71.78125 18.9375 73 \r\nQ 24.125 74.21875 28.421875 74.21875 \r\nQ 39.75 74.21875 46.484375 68.546875 \r\nQ 53.21875 62.890625 53.21875 53.421875 \r\nQ 53.21875 48.921875 51.53125 44.890625 \r\nQ 49.859375 40.875 45.40625 35.40625 \r\nQ 44.1875 33.984375 37.640625 27.21875 \r\nQ 31.109375 20.453125 19.1875 8.296875 \r\nz\r\n\" id=\"DejaVuSans-50\"/>\r\n        <path d=\"M 10.796875 72.90625 \r\nL 49.515625 72.90625 \r\nL 49.515625 64.59375 \r\nL 19.828125 64.59375 \r\nL 19.828125 46.734375 \r\nQ 21.96875 47.46875 24.109375 47.828125 \r\nQ 26.265625 48.1875 28.421875 48.1875 \r\nQ 40.625 48.1875 47.75 41.5 \r\nQ 54.890625 34.8125 54.890625 23.390625 \r\nQ 54.890625 11.625 47.5625 5.09375 \r\nQ 40.234375 -1.421875 26.90625 -1.421875 \r\nQ 22.3125 -1.421875 17.546875 -0.640625 \r\nQ 12.796875 0.140625 7.71875 1.703125 \r\nL 7.71875 11.625 \r\nQ 12.109375 9.234375 16.796875 8.0625 \r\nQ 21.484375 6.890625 26.703125 6.890625 \r\nQ 35.15625 6.890625 40.078125 11.328125 \r\nQ 45.015625 15.765625 45.015625 23.390625 \r\nQ 45.015625 31 40.078125 35.4375 \r\nQ 35.15625 39.890625 26.703125 39.890625 \r\nQ 22.75 39.890625 18.8125 39.015625 \r\nQ 14.890625 38.140625 10.796875 36.28125 \r\nz\r\n\" id=\"DejaVuSans-53\"/>\r\n       </defs>\r\n       <use xlink:href=\"#DejaVuSans-50\"/>\r\n       <use x=\"63.623047\" xlink:href=\"#DejaVuSans-46\"/>\r\n       <use x=\"95.410156\" xlink:href=\"#DejaVuSans-53\"/>\r\n      </g>\r\n     </g>\r\n    </g>\r\n    <g id=\"ytick_3\">\r\n     <g id=\"line2d_14\">\r\n      <g>\r\n       <use style=\"stroke:#000000;stroke-width:0.8;\" x=\"36.465625\" xlink:href=\"#me1b389c219\" y=\"214.285714\"/>\r\n      </g>\r\n     </g>\r\n     <g id=\"text_14\">\r\n      <!-- 5.0 -->\r\n      <g transform=\"translate(13.5625 218.084933)scale(0.1 -0.1)\">\r\n       <use xlink:href=\"#DejaVuSans-53\"/>\r\n       <use x=\"63.623047\" xlink:href=\"#DejaVuSans-46\"/>\r\n       <use x=\"95.410156\" xlink:href=\"#DejaVuSans-48\"/>\r\n      </g>\r\n     </g>\r\n    </g>\r\n    <g id=\"ytick_4\">\r\n     <g id=\"line2d_15\">\r\n      <g>\r\n       <use style=\"stroke:#000000;stroke-width:0.8;\" x=\"36.465625\" xlink:href=\"#me1b389c219\" y=\"181.928571\"/>\r\n      </g>\r\n     </g>\r\n     <g id=\"text_15\">\r\n      <!-- 7.5 -->\r\n      <g transform=\"translate(13.5625 185.72779)scale(0.1 -0.1)\">\r\n       <defs>\r\n        <path d=\"M 8.203125 72.90625 \r\nL 55.078125 72.90625 \r\nL 55.078125 68.703125 \r\nL 28.609375 0 \r\nL 18.3125 0 \r\nL 43.21875 64.59375 \r\nL 8.203125 64.59375 \r\nz\r\n\" id=\"DejaVuSans-55\"/>\r\n       </defs>\r\n       <use xlink:href=\"#DejaVuSans-55\"/>\r\n       <use x=\"63.623047\" xlink:href=\"#DejaVuSans-46\"/>\r\n       <use x=\"95.410156\" xlink:href=\"#DejaVuSans-53\"/>\r\n      </g>\r\n     </g>\r\n    </g>\r\n    <g id=\"ytick_5\">\r\n     <g id=\"line2d_16\">\r\n      <g>\r\n       <use style=\"stroke:#000000;stroke-width:0.8;\" x=\"36.465625\" xlink:href=\"#me1b389c219\" y=\"149.571429\"/>\r\n      </g>\r\n     </g>\r\n     <g id=\"text_16\">\r\n      <!-- 10.0 -->\r\n      <g transform=\"translate(7.2 153.370647)scale(0.1 -0.1)\">\r\n       <defs>\r\n        <path d=\"M 12.40625 8.296875 \r\nL 28.515625 8.296875 \r\nL 28.515625 63.921875 \r\nL 10.984375 60.40625 \r\nL 10.984375 69.390625 \r\nL 28.421875 72.90625 \r\nL 38.28125 72.90625 \r\nL 38.28125 8.296875 \r\nL 54.390625 8.296875 \r\nL 54.390625 0 \r\nL 12.40625 0 \r\nz\r\n\" id=\"DejaVuSans-49\"/>\r\n       </defs>\r\n       <use xlink:href=\"#DejaVuSans-49\"/>\r\n       <use x=\"63.623047\" xlink:href=\"#DejaVuSans-48\"/>\r\n       <use x=\"127.246094\" xlink:href=\"#DejaVuSans-46\"/>\r\n       <use x=\"159.033203\" xlink:href=\"#DejaVuSans-48\"/>\r\n      </g>\r\n     </g>\r\n    </g>\r\n    <g id=\"ytick_6\">\r\n     <g id=\"line2d_17\">\r\n      <g>\r\n       <use style=\"stroke:#000000;stroke-width:0.8;\" x=\"36.465625\" xlink:href=\"#me1b389c219\" y=\"117.214286\"/>\r\n      </g>\r\n     </g>\r\n     <g id=\"text_17\">\r\n      <!-- 12.5 -->\r\n      <g transform=\"translate(7.2 121.013504)scale(0.1 -0.1)\">\r\n       <use xlink:href=\"#DejaVuSans-49\"/>\r\n       <use x=\"63.623047\" xlink:href=\"#DejaVuSans-50\"/>\r\n       <use x=\"127.246094\" xlink:href=\"#DejaVuSans-46\"/>\r\n       <use x=\"159.033203\" xlink:href=\"#DejaVuSans-53\"/>\r\n      </g>\r\n     </g>\r\n    </g>\r\n    <g id=\"ytick_7\">\r\n     <g id=\"line2d_18\">\r\n      <g>\r\n       <use style=\"stroke:#000000;stroke-width:0.8;\" x=\"36.465625\" xlink:href=\"#me1b389c219\" y=\"84.857143\"/>\r\n      </g>\r\n     </g>\r\n     <g id=\"text_18\">\r\n      <!-- 15.0 -->\r\n      <g transform=\"translate(7.2 88.656362)scale(0.1 -0.1)\">\r\n       <use xlink:href=\"#DejaVuSans-49\"/>\r\n       <use x=\"63.623047\" xlink:href=\"#DejaVuSans-53\"/>\r\n       <use x=\"127.246094\" xlink:href=\"#DejaVuSans-46\"/>\r\n       <use x=\"159.033203\" xlink:href=\"#DejaVuSans-48\"/>\r\n      </g>\r\n     </g>\r\n    </g>\r\n    <g id=\"ytick_8\">\r\n     <g id=\"line2d_19\">\r\n      <g>\r\n       <use style=\"stroke:#000000;stroke-width:0.8;\" x=\"36.465625\" xlink:href=\"#me1b389c219\" y=\"52.5\"/>\r\n      </g>\r\n     </g>\r\n     <g id=\"text_19\">\r\n      <!-- 17.5 -->\r\n      <g transform=\"translate(7.2 56.299219)scale(0.1 -0.1)\">\r\n       <use xlink:href=\"#DejaVuSans-49\"/>\r\n       <use x=\"63.623047\" xlink:href=\"#DejaVuSans-55\"/>\r\n       <use x=\"127.246094\" xlink:href=\"#DejaVuSans-46\"/>\r\n       <use x=\"159.033203\" xlink:href=\"#DejaVuSans-53\"/>\r\n      </g>\r\n     </g>\r\n    </g>\r\n    <g id=\"ytick_9\">\r\n     <g id=\"line2d_20\">\r\n      <g>\r\n       <use style=\"stroke:#000000;stroke-width:0.8;\" x=\"36.465625\" xlink:href=\"#me1b389c219\" y=\"20.142857\"/>\r\n      </g>\r\n     </g>\r\n     <g id=\"text_20\">\r\n      <!-- 20.0 -->\r\n      <g transform=\"translate(7.2 23.942076)scale(0.1 -0.1)\">\r\n       <use xlink:href=\"#DejaVuSans-50\"/>\r\n       <use x=\"63.623047\" xlink:href=\"#DejaVuSans-48\"/>\r\n       <use x=\"127.246094\" xlink:href=\"#DejaVuSans-46\"/>\r\n       <use x=\"159.033203\" xlink:href=\"#DejaVuSans-48\"/>\r\n      </g>\r\n     </g>\r\n    </g>\r\n   </g>\r\n   <g id=\"patch_14\">\r\n    <path d=\"M 36.465625 279 \r\nL 36.465625 7.2 \r\n\" style=\"fill:none;stroke:#000000;stroke-linecap:square;stroke-linejoin:miter;stroke-width:0.8;\"/>\r\n   </g>\r\n   <g id=\"patch_15\">\r\n    <path d=\"M 1152.465625 279 \r\nL 1152.465625 7.2 \r\n\" style=\"fill:none;stroke:#000000;stroke-linecap:square;stroke-linejoin:miter;stroke-width:0.8;\"/>\r\n   </g>\r\n   <g id=\"patch_16\">\r\n    <path d=\"M 36.465625 279 \r\nL 1152.465625 279 \r\n\" style=\"fill:none;stroke:#000000;stroke-linecap:square;stroke-linejoin:miter;stroke-width:0.8;\"/>\r\n   </g>\r\n   <g id=\"patch_17\">\r\n    <path d=\"M 36.465625 7.2 \r\nL 1152.465625 7.2 \r\n\" style=\"fill:none;stroke:#000000;stroke-linecap:square;stroke-linejoin:miter;stroke-width:0.8;\"/>\r\n   </g>\r\n  </g>\r\n </g>\r\n <defs>\r\n  <clipPath id=\"p6a45647bdf\">\r\n   <rect height=\"271.8\" width=\"1116\" x=\"36.465625\" y=\"7.2\"/>\r\n  </clipPath>\r\n </defs>\r\n</svg>\r\n",
      "image/png": "[encoded data removed]"
     },
     "metadata": {
      "needs_background": "light"
     }
    }
   ],
   "metadata": {}
  },
  {
   "cell_type": "code",
   "execution_count": 18,
   "source": [
    "print(G.out_degree('shirt'))\r\n",
    "print(G.in_degree('shirt'))"
   ],
   "outputs": [
    {
     "output_type": "stream",
     "name": "stdout",
     "text": [
      "45\n",
      "50\n"
     ]
    }
   ],
   "metadata": {}
  },
  {
   "cell_type": "code",
   "execution_count": 19,
   "source": [
    "relations = []\r\n",
    "for i in G.edges('shirt'):\r\n",
    "    relations.append(G.get_edge_data(i[0],i[1])[0]['Relationship type']) \r\n",
    "    print(i,G.get_edge_data(i[0],i[1])[0]['Relationship type'])"
   ],
   "outputs": [
    {
     "output_type": "stream",
     "name": "stdout",
     "text": [
      "('shirt', 'closet') atlocation\n",
      "('shirt', 'drawer') atlocation\n",
      "('shirt', 'dresser') atlocation\n",
      "('shirt', 'garderobe') atlocation\n",
      "('shirt', 'suitcase') atlocation\n",
      "('shirt', 'brownshirt') derivedfrom\n",
      "('shirt', 'nightshirt') derivedfrom\n",
      "('shirt', 'shirtdress') derivedfrom\n",
      "('shirt', 'sweatshirt') derivedfrom\n",
      "('shirt', 'skirt') etymologicallyrelatedto\n",
      "('shirt', 'buttons') hasa\n",
      "('shirt', 'buttons') hasa\n",
      "('shirt', 'clothes') isa\n",
      "('shirt', 'garment') isa\n",
      "('shirt', 'item_of_clothing') isa\n",
      "('shirt', 'enveloping_covering') isa\n",
      "('shirt', 'top') isa\n",
      "('shirt', 'dress') mannerof\n",
      "('shirt', 'outfit') partof\n",
      "('shirt', 'wardrobe') partof\n",
      "('shirt', 'above') relatedto\n",
      "('shirt', 'arm') relatedto\n",
      "('shirt', 'arm_holes') relatedto\n",
      "('shirt', 'blouse') relatedto\n",
      "('shirt', 'clothing') relatedto\n",
      "('shirt', 'holes') relatedto\n",
      "('shirt', 'man') relatedto\n",
      "('shirt', 'mans') relatedto\n",
      "('shirt', 'waist') relatedto\n",
      "('shirt', 'article') relatedto\n",
      "('shirt', 'body') relatedto\n",
      "('shirt', 'short') relatedto\n",
      "('shirt', 'sleeve') relatedto\n",
      "('shirt', 'wear') relatedto\n",
      "('shirt', 'clothe') relatedto\n",
      "('shirt', 'cover') relatedto\n",
      "('shirt', 'shirt') synonym\n",
      "('shirt', 'dress_shirt') synonym\n",
      "('shirt', 'covering') usedfor\n",
      "('shirt', 'dressing') usedfor\n",
      "('shirt', 'keep_warm') usedfor\n",
      "('shirt', 'keeping_warm') usedfor\n",
      "('shirt', 'protection_from_sun') usedfor\n",
      "('shirt', 'warmth') usedfor\n",
      "('shirt', 'wearing') usedfor\n"
     ]
    }
   ],
   "metadata": {}
  },
  {
   "cell_type": "code",
   "execution_count": 20,
   "source": [
    "from collections import Counter\r\n",
    "w = Counter(relations)\r\n",
    "plt.figure(figsize=(20,5))\r\n",
    "plt.bar(w.keys(),w.values())\r\n",
    "plt.show()"
   ],
   "outputs": [
    {
     "output_type": "display_data",
     "data": {
      "text/plain": [
       "<Figure size 1440x360 with 1 Axes>"
      ],
      "image/svg+xml": "<?xml version=\"1.0\" encoding=\"utf-8\" standalone=\"no\"?>\r\n<!DOCTYPE svg PUBLIC \"-//W3C//DTD SVG 1.1//EN\"\r\n  \"http://www.w3.org/Graphics/SVG/1.1/DTD/svg11.dtd\">\r\n<!-- Created with matplotlib (https://matplotlib.org/) -->\r\n<svg height=\"302.878125pt\" version=\"1.1\" viewBox=\"0 0 1150.125 302.878125\" width=\"1150.125pt\" xmlns=\"http://www.w3.org/2000/svg\" xmlns:xlink=\"http://www.w3.org/1999/xlink\">\r\n <metadata>\r\n  <rdf:RDF xmlns:cc=\"http://creativecommons.org/ns#\" xmlns:dc=\"http://purl.org/dc/elements/1.1/\" xmlns:rdf=\"http://www.w3.org/1999/02/22-rdf-syntax-ns#\">\r\n   <cc:Work>\r\n    <dc:type rdf:resource=\"http://purl.org/dc/dcmitype/StillImage\"/>\r\n    <dc:date>2021-08-11T09:24:22.673591</dc:date>\r\n    <dc:format>image/svg+xml</dc:format>\r\n    <dc:creator>\r\n     <cc:Agent>\r\n      <dc:title>Matplotlib v3.3.4, https://matplotlib.org/</dc:title>\r\n     </cc:Agent>\r\n    </dc:creator>\r\n   </cc:Work>\r\n  </rdf:RDF>\r\n </metadata>\r\n <defs>\r\n  <style type=\"text/css\">*{stroke-linecap:butt;stroke-linejoin:round;}</style>\r\n </defs>\r\n <g id=\"figure_1\">\r\n  <g id=\"patch_1\">\r\n   <path d=\"M 0 302.878125 \r\nL 1150.125 302.878125 \r\nL 1150.125 0 \r\nL 0 0 \r\nz\r\n\" style=\"fill:none;\"/>\r\n  </g>\r\n  <g id=\"axes_1\">\r\n   <g id=\"patch_2\">\r\n    <path d=\"M 26.925 279 \r\nL 1142.925 279 \r\nL 1142.925 7.2 \r\nL 26.925 7.2 \r\nz\r\n\" style=\"fill:#ffffff;\"/>\r\n   </g>\r\n   <g id=\"patch_3\">\r\n    <path clip-path=\"url(#pc762feb582)\" d=\"M 77.652273 279 \r\nL 160.47231 279 \r\nL 160.47231 198.107143 \r\nL 77.652273 198.107143 \r\nz\r\n\" style=\"fill:#1f77b4;\"/>\r\n   </g>\r\n   <g id=\"patch_4\">\r\n    <path clip-path=\"url(#pc762feb582)\" d=\"M 181.177319 279 \r\nL 263.997356 279 \r\nL 263.997356 214.285714 \r\nL 181.177319 214.285714 \r\nz\r\n\" style=\"fill:#1f77b4;\"/>\r\n   </g>\r\n   <g id=\"patch_5\">\r\n    <path clip-path=\"url(#pc762feb582)\" d=\"M 284.702365 279 \r\nL 367.522403 279 \r\nL 367.522403 262.821429 \r\nL 284.702365 262.821429 \r\nz\r\n\" style=\"fill:#1f77b4;\"/>\r\n   </g>\r\n   <g id=\"patch_6\">\r\n    <path clip-path=\"url(#pc762feb582)\" d=\"M 388.227412 279 \r\nL 471.047449 279 \r\nL 471.047449 246.642857 \r\nL 388.227412 246.642857 \r\nz\r\n\" style=\"fill:#1f77b4;\"/>\r\n   </g>\r\n   <g id=\"patch_7\">\r\n    <path clip-path=\"url(#pc762feb582)\" d=\"M 491.752458 279 \r\nL 574.572495 279 \r\nL 574.572495 198.107143 \r\nL 491.752458 198.107143 \r\nz\r\n\" style=\"fill:#1f77b4;\"/>\r\n   </g>\r\n   <g id=\"patch_8\">\r\n    <path clip-path=\"url(#pc762feb582)\" d=\"M 595.277505 279 \r\nL 678.097542 279 \r\nL 678.097542 262.821429 \r\nL 595.277505 262.821429 \r\nz\r\n\" style=\"fill:#1f77b4;\"/>\r\n   </g>\r\n   <g id=\"patch_9\">\r\n    <path clip-path=\"url(#pc762feb582)\" d=\"M 698.802551 279 \r\nL 781.622588 279 \r\nL 781.622588 246.642857 \r\nL 698.802551 246.642857 \r\nz\r\n\" style=\"fill:#1f77b4;\"/>\r\n   </g>\r\n   <g id=\"patch_10\">\r\n    <path clip-path=\"url(#pc762feb582)\" d=\"M 802.327597 279 \r\nL 885.147635 279 \r\nL 885.147635 20.142857 \r\nL 802.327597 20.142857 \r\nz\r\n\" style=\"fill:#1f77b4;\"/>\r\n   </g>\r\n   <g id=\"patch_11\">\r\n    <path clip-path=\"url(#pc762feb582)\" d=\"M 905.852644 279 \r\nL 988.672681 279 \r\nL 988.672681 246.642857 \r\nL 905.852644 246.642857 \r\nz\r\n\" style=\"fill:#1f77b4;\"/>\r\n   </g>\r\n   <g id=\"patch_12\">\r\n    <path clip-path=\"url(#pc762feb582)\" d=\"M 1009.37769 279 \r\nL 1092.197727 279 \r\nL 1092.197727 165.75 \r\nL 1009.37769 165.75 \r\nz\r\n\" style=\"fill:#1f77b4;\"/>\r\n   </g>\r\n   <g id=\"matplotlib.axis_1\">\r\n    <g id=\"xtick_1\">\r\n     <g id=\"line2d_1\">\r\n      <defs>\r\n       <path d=\"M 0 0 \r\nL 0 3.5 \r\n\" id=\"m44484a8ecc\" style=\"stroke:#000000;stroke-width:0.8;\"/>\r\n      </defs>\r\n      <g>\r\n       <use style=\"stroke:#000000;stroke-width:0.8;\" x=\"119.062291\" xlink:href=\"#m44484a8ecc\" y=\"279\"/>\r\n      </g>\r\n     </g>\r\n     <g id=\"text_1\">\r\n      <!-- atlocation -->\r\n      <g transform=\"translate(94.19901 293.598437)scale(0.1 -0.1)\">\r\n       <defs>\r\n        <path d=\"M 34.28125 27.484375 \r\nQ 23.390625 27.484375 19.1875 25 \r\nQ 14.984375 22.515625 14.984375 16.5 \r\nQ 14.984375 11.71875 18.140625 8.90625 \r\nQ 21.296875 6.109375 26.703125 6.109375 \r\nQ 34.1875 6.109375 38.703125 11.40625 \r\nQ 43.21875 16.703125 43.21875 25.484375 \r\nL 43.21875 27.484375 \r\nz\r\nM 52.203125 31.203125 \r\nL 52.203125 0 \r\nL 43.21875 0 \r\nL 43.21875 8.296875 \r\nQ 40.140625 3.328125 35.546875 0.953125 \r\nQ 30.953125 -1.421875 24.3125 -1.421875 \r\nQ 15.921875 -1.421875 10.953125 3.296875 \r\nQ 6 8.015625 6 15.921875 \r\nQ 6 25.140625 12.171875 29.828125 \r\nQ 18.359375 34.515625 30.609375 34.515625 \r\nL 43.21875 34.515625 \r\nL 43.21875 35.40625 \r\nQ 43.21875 41.609375 39.140625 45 \r\nQ 35.0625 48.390625 27.6875 48.390625 \r\nQ 23 48.390625 18.546875 47.265625 \r\nQ 14.109375 46.140625 10.015625 43.890625 \r\nL 10.015625 52.203125 \r\nQ 14.9375 54.109375 19.578125 55.046875 \r\nQ 24.21875 56 28.609375 56 \r\nQ 40.484375 56 46.34375 49.84375 \r\nQ 52.203125 43.703125 52.203125 31.203125 \r\nz\r\n\" id=\"DejaVuSans-97\"/>\r\n        <path d=\"M 18.3125 70.21875 \r\nL 18.3125 54.6875 \r\nL 36.8125 54.6875 \r\nL 36.8125 47.703125 \r\nL 18.3125 47.703125 \r\nL 18.3125 18.015625 \r\nQ 18.3125 11.328125 20.140625 9.421875 \r\nQ 21.96875 7.515625 27.59375 7.515625 \r\nL 36.8125 7.515625 \r\nL 36.8125 0 \r\nL 27.59375 0 \r\nQ 17.1875 0 13.234375 3.875 \r\nQ 9.28125 7.765625 9.28125 18.015625 \r\nL 9.28125 47.703125 \r\nL 2.6875 47.703125 \r\nL 2.6875 54.6875 \r\nL 9.28125 54.6875 \r\nL 9.28125 70.21875 \r\nz\r\n\" id=\"DejaVuSans-116\"/>\r\n        <path d=\"M 9.421875 75.984375 \r\nL 18.40625 75.984375 \r\nL 18.40625 0 \r\nL 9.421875 0 \r\nz\r\n\" id=\"DejaVuSans-108\"/>\r\n        <path d=\"M 30.609375 48.390625 \r\nQ 23.390625 48.390625 19.1875 42.75 \r\nQ 14.984375 37.109375 14.984375 27.296875 \r\nQ 14.984375 17.484375 19.15625 11.84375 \r\nQ 23.34375 6.203125 30.609375 6.203125 \r\nQ 37.796875 6.203125 41.984375 11.859375 \r\nQ 46.1875 17.53125 46.1875 27.296875 \r\nQ 46.1875 37.015625 41.984375 42.703125 \r\nQ 37.796875 48.390625 30.609375 48.390625 \r\nz\r\nM 30.609375 56 \r\nQ 42.328125 56 49.015625 48.375 \r\nQ 55.71875 40.765625 55.71875 27.296875 \r\nQ 55.71875 13.875 49.015625 6.21875 \r\nQ 42.328125 -1.421875 30.609375 -1.421875 \r\nQ 18.84375 -1.421875 12.171875 6.21875 \r\nQ 5.515625 13.875 5.515625 27.296875 \r\nQ 5.515625 40.765625 12.171875 48.375 \r\nQ 18.84375 56 30.609375 56 \r\nz\r\n\" id=\"DejaVuSans-111\"/>\r\n        <path d=\"M 48.78125 52.59375 \r\nL 48.78125 44.1875 \r\nQ 44.96875 46.296875 41.140625 47.34375 \r\nQ 37.3125 48.390625 33.40625 48.390625 \r\nQ 24.65625 48.390625 19.8125 42.84375 \r\nQ 14.984375 37.3125 14.984375 27.296875 \r\nQ 14.984375 17.28125 19.8125 11.734375 \r\nQ 24.65625 6.203125 33.40625 6.203125 \r\nQ 37.3125 6.203125 41.140625 7.25 \r\nQ 44.96875 8.296875 48.78125 10.40625 \r\nL 48.78125 2.09375 \r\nQ 45.015625 0.34375 40.984375 -0.53125 \r\nQ 36.96875 -1.421875 32.421875 -1.421875 \r\nQ 20.0625 -1.421875 12.78125 6.34375 \r\nQ 5.515625 14.109375 5.515625 27.296875 \r\nQ 5.515625 40.671875 12.859375 48.328125 \r\nQ 20.21875 56 33.015625 56 \r\nQ 37.15625 56 41.109375 55.140625 \r\nQ 45.0625 54.296875 48.78125 52.59375 \r\nz\r\n\" id=\"DejaVuSans-99\"/>\r\n        <path d=\"M 9.421875 54.6875 \r\nL 18.40625 54.6875 \r\nL 18.40625 0 \r\nL 9.421875 0 \r\nz\r\nM 9.421875 75.984375 \r\nL 18.40625 75.984375 \r\nL 18.40625 64.59375 \r\nL 9.421875 64.59375 \r\nz\r\n\" id=\"DejaVuSans-105\"/>\r\n        <path d=\"M 54.890625 33.015625 \r\nL 54.890625 0 \r\nL 45.90625 0 \r\nL 45.90625 32.71875 \r\nQ 45.90625 40.484375 42.875 44.328125 \r\nQ 39.84375 48.1875 33.796875 48.1875 \r\nQ 26.515625 48.1875 22.3125 43.546875 \r\nQ 18.109375 38.921875 18.109375 30.90625 \r\nL 18.109375 0 \r\nL 9.078125 0 \r\nL 9.078125 54.6875 \r\nL 18.109375 54.6875 \r\nL 18.109375 46.1875 \r\nQ 21.34375 51.125 25.703125 53.5625 \r\nQ 30.078125 56 35.796875 56 \r\nQ 45.21875 56 50.046875 50.171875 \r\nQ 54.890625 44.34375 54.890625 33.015625 \r\nz\r\n\" id=\"DejaVuSans-110\"/>\r\n       </defs>\r\n       <use xlink:href=\"#DejaVuSans-97\"/>\r\n       <use x=\"61.279297\" xlink:href=\"#DejaVuSans-116\"/>\r\n       <use x=\"100.488281\" xlink:href=\"#DejaVuSans-108\"/>\r\n       <use x=\"128.271484\" xlink:href=\"#DejaVuSans-111\"/>\r\n       <use x=\"189.453125\" xlink:href=\"#DejaVuSans-99\"/>\r\n       <use x=\"244.433594\" xlink:href=\"#DejaVuSans-97\"/>\r\n       <use x=\"305.712891\" xlink:href=\"#DejaVuSans-116\"/>\r\n       <use x=\"344.921875\" xlink:href=\"#DejaVuSans-105\"/>\r\n       <use x=\"372.705078\" xlink:href=\"#DejaVuSans-111\"/>\r\n       <use x=\"433.886719\" xlink:href=\"#DejaVuSans-110\"/>\r\n      </g>\r\n     </g>\r\n    </g>\r\n    <g id=\"xtick_2\">\r\n     <g id=\"line2d_2\">\r\n      <g>\r\n       <use style=\"stroke:#000000;stroke-width:0.8;\" x=\"222.587338\" xlink:href=\"#m44484a8ecc\" y=\"279\"/>\r\n      </g>\r\n     </g>\r\n     <g id=\"text_2\">\r\n      <!-- derivedfrom -->\r\n      <g transform=\"translate(192.049056 293.598437)scale(0.1 -0.1)\">\r\n       <defs>\r\n        <path d=\"M 45.40625 46.390625 \r\nL 45.40625 75.984375 \r\nL 54.390625 75.984375 \r\nL 54.390625 0 \r\nL 45.40625 0 \r\nL 45.40625 8.203125 \r\nQ 42.578125 3.328125 38.25 0.953125 \r\nQ 33.9375 -1.421875 27.875 -1.421875 \r\nQ 17.96875 -1.421875 11.734375 6.484375 \r\nQ 5.515625 14.40625 5.515625 27.296875 \r\nQ 5.515625 40.1875 11.734375 48.09375 \r\nQ 17.96875 56 27.875 56 \r\nQ 33.9375 56 38.25 53.625 \r\nQ 42.578125 51.265625 45.40625 46.390625 \r\nz\r\nM 14.796875 27.296875 \r\nQ 14.796875 17.390625 18.875 11.75 \r\nQ 22.953125 6.109375 30.078125 6.109375 \r\nQ 37.203125 6.109375 41.296875 11.75 \r\nQ 45.40625 17.390625 45.40625 27.296875 \r\nQ 45.40625 37.203125 41.296875 42.84375 \r\nQ 37.203125 48.484375 30.078125 48.484375 \r\nQ 22.953125 48.484375 18.875 42.84375 \r\nQ 14.796875 37.203125 14.796875 27.296875 \r\nz\r\n\" id=\"DejaVuSans-100\"/>\r\n        <path d=\"M 56.203125 29.59375 \r\nL 56.203125 25.203125 \r\nL 14.890625 25.203125 \r\nQ 15.484375 15.921875 20.484375 11.0625 \r\nQ 25.484375 6.203125 34.421875 6.203125 \r\nQ 39.59375 6.203125 44.453125 7.46875 \r\nQ 49.3125 8.734375 54.109375 11.28125 \r\nL 54.109375 2.78125 \r\nQ 49.265625 0.734375 44.1875 -0.34375 \r\nQ 39.109375 -1.421875 33.890625 -1.421875 \r\nQ 20.796875 -1.421875 13.15625 6.1875 \r\nQ 5.515625 13.8125 5.515625 26.8125 \r\nQ 5.515625 40.234375 12.765625 48.109375 \r\nQ 20.015625 56 32.328125 56 \r\nQ 43.359375 56 49.78125 48.890625 \r\nQ 56.203125 41.796875 56.203125 29.59375 \r\nz\r\nM 47.21875 32.234375 \r\nQ 47.125 39.59375 43.09375 43.984375 \r\nQ 39.0625 48.390625 32.421875 48.390625 \r\nQ 24.90625 48.390625 20.390625 44.140625 \r\nQ 15.875 39.890625 15.1875 32.171875 \r\nz\r\n\" id=\"DejaVuSans-101\"/>\r\n        <path d=\"M 41.109375 46.296875 \r\nQ 39.59375 47.171875 37.8125 47.578125 \r\nQ 36.03125 48 33.890625 48 \r\nQ 26.265625 48 22.1875 43.046875 \r\nQ 18.109375 38.09375 18.109375 28.8125 \r\nL 18.109375 0 \r\nL 9.078125 0 \r\nL 9.078125 54.6875 \r\nL 18.109375 54.6875 \r\nL 18.109375 46.1875 \r\nQ 20.953125 51.171875 25.484375 53.578125 \r\nQ 30.03125 56 36.53125 56 \r\nQ 37.453125 56 38.578125 55.875 \r\nQ 39.703125 55.765625 41.0625 55.515625 \r\nz\r\n\" id=\"DejaVuSans-114\"/>\r\n        <path d=\"M 2.984375 54.6875 \r\nL 12.5 54.6875 \r\nL 29.59375 8.796875 \r\nL 46.6875 54.6875 \r\nL 56.203125 54.6875 \r\nL 35.6875 0 \r\nL 23.484375 0 \r\nz\r\n\" id=\"DejaVuSans-118\"/>\r\n        <path d=\"M 37.109375 75.984375 \r\nL 37.109375 68.5 \r\nL 28.515625 68.5 \r\nQ 23.6875 68.5 21.796875 66.546875 \r\nQ 19.921875 64.59375 19.921875 59.515625 \r\nL 19.921875 54.6875 \r\nL 34.71875 54.6875 \r\nL 34.71875 47.703125 \r\nL 19.921875 47.703125 \r\nL 19.921875 0 \r\nL 10.890625 0 \r\nL 10.890625 47.703125 \r\nL 2.296875 47.703125 \r\nL 2.296875 54.6875 \r\nL 10.890625 54.6875 \r\nL 10.890625 58.5 \r\nQ 10.890625 67.625 15.140625 71.796875 \r\nQ 19.390625 75.984375 28.609375 75.984375 \r\nz\r\n\" id=\"DejaVuSans-102\"/>\r\n        <path d=\"M 52 44.1875 \r\nQ 55.375 50.25 60.0625 53.125 \r\nQ 64.75 56 71.09375 56 \r\nQ 79.640625 56 84.28125 50.015625 \r\nQ 88.921875 44.046875 88.921875 33.015625 \r\nL 88.921875 0 \r\nL 79.890625 0 \r\nL 79.890625 32.71875 \r\nQ 79.890625 40.578125 77.09375 44.375 \r\nQ 74.3125 48.1875 68.609375 48.1875 \r\nQ 61.625 48.1875 57.5625 43.546875 \r\nQ 53.515625 38.921875 53.515625 30.90625 \r\nL 53.515625 0 \r\nL 44.484375 0 \r\nL 44.484375 32.71875 \r\nQ 44.484375 40.625 41.703125 44.40625 \r\nQ 38.921875 48.1875 33.109375 48.1875 \r\nQ 26.21875 48.1875 22.15625 43.53125 \r\nQ 18.109375 38.875 18.109375 30.90625 \r\nL 18.109375 0 \r\nL 9.078125 0 \r\nL 9.078125 54.6875 \r\nL 18.109375 54.6875 \r\nL 18.109375 46.1875 \r\nQ 21.1875 51.21875 25.484375 53.609375 \r\nQ 29.78125 56 35.6875 56 \r\nQ 41.65625 56 45.828125 52.96875 \r\nQ 50 49.953125 52 44.1875 \r\nz\r\n\" id=\"DejaVuSans-109\"/>\r\n       </defs>\r\n       <use xlink:href=\"#DejaVuSans-100\"/>\r\n       <use x=\"63.476562\" xlink:href=\"#DejaVuSans-101\"/>\r\n       <use x=\"125\" xlink:href=\"#DejaVuSans-114\"/>\r\n       <use x=\"166.113281\" xlink:href=\"#DejaVuSans-105\"/>\r\n       <use x=\"193.896484\" xlink:href=\"#DejaVuSans-118\"/>\r\n       <use x=\"253.076172\" xlink:href=\"#DejaVuSans-101\"/>\r\n       <use x=\"314.599609\" xlink:href=\"#DejaVuSans-100\"/>\r\n       <use x=\"378.076172\" xlink:href=\"#DejaVuSans-102\"/>\r\n       <use x=\"413.28125\" xlink:href=\"#DejaVuSans-114\"/>\r\n       <use x=\"452.144531\" xlink:href=\"#DejaVuSans-111\"/>\r\n       <use x=\"513.326172\" xlink:href=\"#DejaVuSans-109\"/>\r\n      </g>\r\n     </g>\r\n    </g>\r\n    <g id=\"xtick_3\">\r\n     <g id=\"line2d_3\">\r\n      <g>\r\n       <use style=\"stroke:#000000;stroke-width:0.8;\" x=\"326.112384\" xlink:href=\"#m44484a8ecc\" y=\"279\"/>\r\n      </g>\r\n     </g>\r\n     <g id=\"text_3\">\r\n      <!-- etymologicallyrelatedto -->\r\n      <g transform=\"translate(266.920978 293.598437)scale(0.1 -0.1)\">\r\n       <defs>\r\n        <path d=\"M 32.171875 -5.078125 \r\nQ 28.375 -14.84375 24.75 -17.8125 \r\nQ 21.140625 -20.796875 15.09375 -20.796875 \r\nL 7.90625 -20.796875 \r\nL 7.90625 -13.28125 \r\nL 13.1875 -13.28125 \r\nQ 16.890625 -13.28125 18.9375 -11.515625 \r\nQ 21 -9.765625 23.484375 -3.21875 \r\nL 25.09375 0.875 \r\nL 2.984375 54.6875 \r\nL 12.5 54.6875 \r\nL 29.59375 11.921875 \r\nL 46.6875 54.6875 \r\nL 56.203125 54.6875 \r\nz\r\n\" id=\"DejaVuSans-121\"/>\r\n        <path d=\"M 45.40625 27.984375 \r\nQ 45.40625 37.75 41.375 43.109375 \r\nQ 37.359375 48.484375 30.078125 48.484375 \r\nQ 22.859375 48.484375 18.828125 43.109375 \r\nQ 14.796875 37.75 14.796875 27.984375 \r\nQ 14.796875 18.265625 18.828125 12.890625 \r\nQ 22.859375 7.515625 30.078125 7.515625 \r\nQ 37.359375 7.515625 41.375 12.890625 \r\nQ 45.40625 18.265625 45.40625 27.984375 \r\nz\r\nM 54.390625 6.78125 \r\nQ 54.390625 -7.171875 48.1875 -13.984375 \r\nQ 42 -20.796875 29.203125 -20.796875 \r\nQ 24.46875 -20.796875 20.265625 -20.09375 \r\nQ 16.0625 -19.390625 12.109375 -17.921875 \r\nL 12.109375 -9.1875 \r\nQ 16.0625 -11.328125 19.921875 -12.34375 \r\nQ 23.78125 -13.375 27.78125 -13.375 \r\nQ 36.625 -13.375 41.015625 -8.765625 \r\nQ 45.40625 -4.15625 45.40625 5.171875 \r\nL 45.40625 9.625 \r\nQ 42.625 4.78125 38.28125 2.390625 \r\nQ 33.9375 0 27.875 0 \r\nQ 17.828125 0 11.671875 7.65625 \r\nQ 5.515625 15.328125 5.515625 27.984375 \r\nQ 5.515625 40.671875 11.671875 48.328125 \r\nQ 17.828125 56 27.875 56 \r\nQ 33.9375 56 38.28125 53.609375 \r\nQ 42.625 51.21875 45.40625 46.390625 \r\nL 45.40625 54.6875 \r\nL 54.390625 54.6875 \r\nz\r\n\" id=\"DejaVuSans-103\"/>\r\n       </defs>\r\n       <use xlink:href=\"#DejaVuSans-101\"/>\r\n       <use x=\"61.523438\" xlink:href=\"#DejaVuSans-116\"/>\r\n       <use x=\"100.732422\" xlink:href=\"#DejaVuSans-121\"/>\r\n       <use x=\"159.912109\" xlink:href=\"#DejaVuSans-109\"/>\r\n       <use x=\"257.324219\" xlink:href=\"#DejaVuSans-111\"/>\r\n       <use x=\"318.505859\" xlink:href=\"#DejaVuSans-108\"/>\r\n       <use x=\"346.289062\" xlink:href=\"#DejaVuSans-111\"/>\r\n       <use x=\"407.470703\" xlink:href=\"#DejaVuSans-103\"/>\r\n       <use x=\"470.947266\" xlink:href=\"#DejaVuSans-105\"/>\r\n       <use x=\"498.730469\" xlink:href=\"#DejaVuSans-99\"/>\r\n       <use x=\"553.710938\" xlink:href=\"#DejaVuSans-97\"/>\r\n       <use x=\"614.990234\" xlink:href=\"#DejaVuSans-108\"/>\r\n       <use x=\"642.773438\" xlink:href=\"#DejaVuSans-108\"/>\r\n       <use x=\"670.556641\" xlink:href=\"#DejaVuSans-121\"/>\r\n       <use x=\"729.736328\" xlink:href=\"#DejaVuSans-114\"/>\r\n       <use x=\"768.599609\" xlink:href=\"#DejaVuSans-101\"/>\r\n       <use x=\"830.123047\" xlink:href=\"#DejaVuSans-108\"/>\r\n       <use x=\"857.90625\" xlink:href=\"#DejaVuSans-97\"/>\r\n       <use x=\"919.185547\" xlink:href=\"#DejaVuSans-116\"/>\r\n       <use x=\"958.394531\" xlink:href=\"#DejaVuSans-101\"/>\r\n       <use x=\"1019.917969\" xlink:href=\"#DejaVuSans-100\"/>\r\n       <use x=\"1083.394531\" xlink:href=\"#DejaVuSans-116\"/>\r\n       <use x=\"1122.603516\" xlink:href=\"#DejaVuSans-111\"/>\r\n      </g>\r\n     </g>\r\n    </g>\r\n    <g id=\"xtick_4\">\r\n     <g id=\"line2d_4\">\r\n      <g>\r\n       <use style=\"stroke:#000000;stroke-width:0.8;\" x=\"429.63743\" xlink:href=\"#m44484a8ecc\" y=\"279\"/>\r\n      </g>\r\n     </g>\r\n     <g id=\"text_4\">\r\n      <!-- hasa -->\r\n      <g transform=\"translate(417.735868 293.598437)scale(0.1 -0.1)\">\r\n       <defs>\r\n        <path d=\"M 54.890625 33.015625 \r\nL 54.890625 0 \r\nL 45.90625 0 \r\nL 45.90625 32.71875 \r\nQ 45.90625 40.484375 42.875 44.328125 \r\nQ 39.84375 48.1875 33.796875 48.1875 \r\nQ 26.515625 48.1875 22.3125 43.546875 \r\nQ 18.109375 38.921875 18.109375 30.90625 \r\nL 18.109375 0 \r\nL 9.078125 0 \r\nL 9.078125 75.984375 \r\nL 18.109375 75.984375 \r\nL 18.109375 46.1875 \r\nQ 21.34375 51.125 25.703125 53.5625 \r\nQ 30.078125 56 35.796875 56 \r\nQ 45.21875 56 50.046875 50.171875 \r\nQ 54.890625 44.34375 54.890625 33.015625 \r\nz\r\n\" id=\"DejaVuSans-104\"/>\r\n        <path d=\"M 44.28125 53.078125 \r\nL 44.28125 44.578125 \r\nQ 40.484375 46.53125 36.375 47.5 \r\nQ 32.28125 48.484375 27.875 48.484375 \r\nQ 21.1875 48.484375 17.84375 46.4375 \r\nQ 14.5 44.390625 14.5 40.28125 \r\nQ 14.5 37.15625 16.890625 35.375 \r\nQ 19.28125 33.59375 26.515625 31.984375 \r\nL 29.59375 31.296875 \r\nQ 39.15625 29.25 43.1875 25.515625 \r\nQ 47.21875 21.78125 47.21875 15.09375 \r\nQ 47.21875 7.46875 41.1875 3.015625 \r\nQ 35.15625 -1.421875 24.609375 -1.421875 \r\nQ 20.21875 -1.421875 15.453125 -0.5625 \r\nQ 10.6875 0.296875 5.421875 2 \r\nL 5.421875 11.28125 \r\nQ 10.40625 8.6875 15.234375 7.390625 \r\nQ 20.0625 6.109375 24.8125 6.109375 \r\nQ 31.15625 6.109375 34.5625 8.28125 \r\nQ 37.984375 10.453125 37.984375 14.40625 \r\nQ 37.984375 18.0625 35.515625 20.015625 \r\nQ 33.0625 21.96875 24.703125 23.78125 \r\nL 21.578125 24.515625 \r\nQ 13.234375 26.265625 9.515625 29.90625 \r\nQ 5.8125 33.546875 5.8125 39.890625 \r\nQ 5.8125 47.609375 11.28125 51.796875 \r\nQ 16.75 56 26.8125 56 \r\nQ 31.78125 56 36.171875 55.265625 \r\nQ 40.578125 54.546875 44.28125 53.078125 \r\nz\r\n\" id=\"DejaVuSans-115\"/>\r\n       </defs>\r\n       <use xlink:href=\"#DejaVuSans-104\"/>\r\n       <use x=\"63.378906\" xlink:href=\"#DejaVuSans-97\"/>\r\n       <use x=\"124.658203\" xlink:href=\"#DejaVuSans-115\"/>\r\n       <use x=\"176.757812\" xlink:href=\"#DejaVuSans-97\"/>\r\n      </g>\r\n     </g>\r\n    </g>\r\n    <g id=\"xtick_5\">\r\n     <g id=\"line2d_5\">\r\n      <g>\r\n       <use style=\"stroke:#000000;stroke-width:0.8;\" x=\"533.162477\" xlink:href=\"#m44484a8ecc\" y=\"279\"/>\r\n      </g>\r\n     </g>\r\n     <g id=\"text_5\">\r\n      <!-- isa -->\r\n      <g transform=\"translate(526.104664 293.598437)scale(0.1 -0.1)\">\r\n       <use xlink:href=\"#DejaVuSans-105\"/>\r\n       <use x=\"27.783203\" xlink:href=\"#DejaVuSans-115\"/>\r\n       <use x=\"79.882812\" xlink:href=\"#DejaVuSans-97\"/>\r\n      </g>\r\n     </g>\r\n    </g>\r\n    <g id=\"xtick_6\">\r\n     <g id=\"line2d_6\">\r\n      <g>\r\n       <use style=\"stroke:#000000;stroke-width:0.8;\" x=\"636.687523\" xlink:href=\"#m44484a8ecc\" y=\"279\"/>\r\n      </g>\r\n     </g>\r\n     <g id=\"text_6\">\r\n      <!-- mannerof -->\r\n      <g transform=\"translate(612.576586 293.598437)scale(0.1 -0.1)\">\r\n       <use xlink:href=\"#DejaVuSans-109\"/>\r\n       <use x=\"97.412109\" xlink:href=\"#DejaVuSans-97\"/>\r\n       <use x=\"158.691406\" xlink:href=\"#DejaVuSans-110\"/>\r\n       <use x=\"222.070312\" xlink:href=\"#DejaVuSans-110\"/>\r\n       <use x=\"285.449219\" xlink:href=\"#DejaVuSans-101\"/>\r\n       <use x=\"346.972656\" xlink:href=\"#DejaVuSans-114\"/>\r\n       <use x=\"385.835938\" xlink:href=\"#DejaVuSans-111\"/>\r\n       <use x=\"447.017578\" xlink:href=\"#DejaVuSans-102\"/>\r\n      </g>\r\n     </g>\r\n    </g>\r\n    <g id=\"xtick_7\">\r\n     <g id=\"line2d_7\">\r\n      <g>\r\n       <use style=\"stroke:#000000;stroke-width:0.8;\" x=\"740.21257\" xlink:href=\"#m44484a8ecc\" y=\"279\"/>\r\n      </g>\r\n     </g>\r\n     <g id=\"text_7\">\r\n      <!-- partof -->\r\n      <g transform=\"translate(725.139132 293.598437)scale(0.1 -0.1)\">\r\n       <defs>\r\n        <path d=\"M 18.109375 8.203125 \r\nL 18.109375 -20.796875 \r\nL 9.078125 -20.796875 \r\nL 9.078125 54.6875 \r\nL 18.109375 54.6875 \r\nL 18.109375 46.390625 \r\nQ 20.953125 51.265625 25.265625 53.625 \r\nQ 29.59375 56 35.59375 56 \r\nQ 45.5625 56 51.78125 48.09375 \r\nQ 58.015625 40.1875 58.015625 27.296875 \r\nQ 58.015625 14.40625 51.78125 6.484375 \r\nQ 45.5625 -1.421875 35.59375 -1.421875 \r\nQ 29.59375 -1.421875 25.265625 0.953125 \r\nQ 20.953125 3.328125 18.109375 8.203125 \r\nz\r\nM 48.6875 27.296875 \r\nQ 48.6875 37.203125 44.609375 42.84375 \r\nQ 40.53125 48.484375 33.40625 48.484375 \r\nQ 26.265625 48.484375 22.1875 42.84375 \r\nQ 18.109375 37.203125 18.109375 27.296875 \r\nQ 18.109375 17.390625 22.1875 11.75 \r\nQ 26.265625 6.109375 33.40625 6.109375 \r\nQ 40.53125 6.109375 44.609375 11.75 \r\nQ 48.6875 17.390625 48.6875 27.296875 \r\nz\r\n\" id=\"DejaVuSans-112\"/>\r\n       </defs>\r\n       <use xlink:href=\"#DejaVuSans-112\"/>\r\n       <use x=\"63.476562\" xlink:href=\"#DejaVuSans-97\"/>\r\n       <use x=\"124.755859\" xlink:href=\"#DejaVuSans-114\"/>\r\n       <use x=\"165.869141\" xlink:href=\"#DejaVuSans-116\"/>\r\n       <use x=\"205.078125\" xlink:href=\"#DejaVuSans-111\"/>\r\n       <use x=\"266.259766\" xlink:href=\"#DejaVuSans-102\"/>\r\n      </g>\r\n     </g>\r\n    </g>\r\n    <g id=\"xtick_8\">\r\n     <g id=\"line2d_8\">\r\n      <g>\r\n       <use style=\"stroke:#000000;stroke-width:0.8;\" x=\"843.737616\" xlink:href=\"#m44484a8ecc\" y=\"279\"/>\r\n      </g>\r\n     </g>\r\n     <g id=\"text_8\">\r\n      <!-- relatedto -->\r\n      <g transform=\"translate(821.034491 293.598437)scale(0.1 -0.1)\">\r\n       <use xlink:href=\"#DejaVuSans-114\"/>\r\n       <use x=\"38.863281\" xlink:href=\"#DejaVuSans-101\"/>\r\n       <use x=\"100.386719\" xlink:href=\"#DejaVuSans-108\"/>\r\n       <use x=\"128.169922\" xlink:href=\"#DejaVuSans-97\"/>\r\n       <use x=\"189.449219\" xlink:href=\"#DejaVuSans-116\"/>\r\n       <use x=\"228.658203\" xlink:href=\"#DejaVuSans-101\"/>\r\n       <use x=\"290.181641\" xlink:href=\"#DejaVuSans-100\"/>\r\n       <use x=\"353.658203\" xlink:href=\"#DejaVuSans-116\"/>\r\n       <use x=\"392.867188\" xlink:href=\"#DejaVuSans-111\"/>\r\n      </g>\r\n     </g>\r\n    </g>\r\n    <g id=\"xtick_9\">\r\n     <g id=\"line2d_9\">\r\n      <g>\r\n       <use style=\"stroke:#000000;stroke-width:0.8;\" x=\"947.262662\" xlink:href=\"#m44484a8ecc\" y=\"279\"/>\r\n      </g>\r\n     </g>\r\n     <g id=\"text_9\">\r\n      <!-- synonym -->\r\n      <g transform=\"translate(924.472037 293.598437)scale(0.1 -0.1)\">\r\n       <use xlink:href=\"#DejaVuSans-115\"/>\r\n       <use x=\"52.099609\" xlink:href=\"#DejaVuSans-121\"/>\r\n       <use x=\"111.279297\" xlink:href=\"#DejaVuSans-110\"/>\r\n       <use x=\"174.658203\" xlink:href=\"#DejaVuSans-111\"/>\r\n       <use x=\"235.839844\" xlink:href=\"#DejaVuSans-110\"/>\r\n       <use x=\"299.21875\" xlink:href=\"#DejaVuSans-121\"/>\r\n       <use x=\"358.398438\" xlink:href=\"#DejaVuSans-109\"/>\r\n      </g>\r\n     </g>\r\n    </g>\r\n    <g id=\"xtick_10\">\r\n     <g id=\"line2d_10\">\r\n      <g>\r\n       <use style=\"stroke:#000000;stroke-width:0.8;\" x=\"1050.787709\" xlink:href=\"#m44484a8ecc\" y=\"279\"/>\r\n      </g>\r\n     </g>\r\n     <g id=\"text_10\">\r\n      <!-- usedfor -->\r\n      <g transform=\"translate(1031.88849 293.598437)scale(0.1 -0.1)\">\r\n       <defs>\r\n        <path d=\"M 8.5 21.578125 \r\nL 8.5 54.6875 \r\nL 17.484375 54.6875 \r\nL 17.484375 21.921875 \r\nQ 17.484375 14.15625 20.5 10.265625 \r\nQ 23.53125 6.390625 29.59375 6.390625 \r\nQ 36.859375 6.390625 41.078125 11.03125 \r\nQ 45.3125 15.671875 45.3125 23.6875 \r\nL 45.3125 54.6875 \r\nL 54.296875 54.6875 \r\nL 54.296875 0 \r\nL 45.3125 0 \r\nL 45.3125 8.40625 \r\nQ 42.046875 3.421875 37.71875 1 \r\nQ 33.40625 -1.421875 27.6875 -1.421875 \r\nQ 18.265625 -1.421875 13.375 4.4375 \r\nQ 8.5 10.296875 8.5 21.578125 \r\nz\r\nM 31.109375 56 \r\nz\r\n\" id=\"DejaVuSans-117\"/>\r\n       </defs>\r\n       <use xlink:href=\"#DejaVuSans-117\"/>\r\n       <use x=\"63.378906\" xlink:href=\"#DejaVuSans-115\"/>\r\n       <use x=\"115.478516\" xlink:href=\"#DejaVuSans-101\"/>\r\n       <use x=\"177.001953\" xlink:href=\"#DejaVuSans-100\"/>\r\n       <use x=\"240.478516\" xlink:href=\"#DejaVuSans-102\"/>\r\n       <use x=\"275.683594\" xlink:href=\"#DejaVuSans-111\"/>\r\n       <use x=\"336.865234\" xlink:href=\"#DejaVuSans-114\"/>\r\n      </g>\r\n     </g>\r\n    </g>\r\n   </g>\r\n   <g id=\"matplotlib.axis_2\">\r\n    <g id=\"ytick_1\">\r\n     <g id=\"line2d_11\">\r\n      <defs>\r\n       <path d=\"M 0 0 \r\nL -3.5 0 \r\n\" id=\"m4c13da1122\" style=\"stroke:#000000;stroke-width:0.8;\"/>\r\n      </defs>\r\n      <g>\r\n       <use style=\"stroke:#000000;stroke-width:0.8;\" x=\"26.925\" xlink:href=\"#m4c13da1122\" y=\"279\"/>\r\n      </g>\r\n     </g>\r\n     <g id=\"text_11\">\r\n      <!-- 0 -->\r\n      <g transform=\"translate(13.5625 282.799219)scale(0.1 -0.1)\">\r\n       <defs>\r\n        <path d=\"M 31.78125 66.40625 \r\nQ 24.171875 66.40625 20.328125 58.90625 \r\nQ 16.5 51.421875 16.5 36.375 \r\nQ 16.5 21.390625 20.328125 13.890625 \r\nQ 24.171875 6.390625 31.78125 6.390625 \r\nQ 39.453125 6.390625 43.28125 13.890625 \r\nQ 47.125 21.390625 47.125 36.375 \r\nQ 47.125 51.421875 43.28125 58.90625 \r\nQ 39.453125 66.40625 31.78125 66.40625 \r\nz\r\nM 31.78125 74.21875 \r\nQ 44.046875 74.21875 50.515625 64.515625 \r\nQ 56.984375 54.828125 56.984375 36.375 \r\nQ 56.984375 17.96875 50.515625 8.265625 \r\nQ 44.046875 -1.421875 31.78125 -1.421875 \r\nQ 19.53125 -1.421875 13.0625 8.265625 \r\nQ 6.59375 17.96875 6.59375 36.375 \r\nQ 6.59375 54.828125 13.0625 64.515625 \r\nQ 19.53125 74.21875 31.78125 74.21875 \r\nz\r\n\" id=\"DejaVuSans-48\"/>\r\n       </defs>\r\n       <use xlink:href=\"#DejaVuSans-48\"/>\r\n      </g>\r\n     </g>\r\n    </g>\r\n    <g id=\"ytick_2\">\r\n     <g id=\"line2d_12\">\r\n      <g>\r\n       <use style=\"stroke:#000000;stroke-width:0.8;\" x=\"26.925\" xlink:href=\"#m4c13da1122\" y=\"246.642857\"/>\r\n      </g>\r\n     </g>\r\n     <g id=\"text_12\">\r\n      <!-- 2 -->\r\n      <g transform=\"translate(13.5625 250.442076)scale(0.1 -0.1)\">\r\n       <defs>\r\n        <path d=\"M 19.1875 8.296875 \r\nL 53.609375 8.296875 \r\nL 53.609375 0 \r\nL 7.328125 0 \r\nL 7.328125 8.296875 \r\nQ 12.9375 14.109375 22.625 23.890625 \r\nQ 32.328125 33.6875 34.8125 36.53125 \r\nQ 39.546875 41.84375 41.421875 45.53125 \r\nQ 43.3125 49.21875 43.3125 52.78125 \r\nQ 43.3125 58.59375 39.234375 62.25 \r\nQ 35.15625 65.921875 28.609375 65.921875 \r\nQ 23.96875 65.921875 18.8125 64.3125 \r\nQ 13.671875 62.703125 7.8125 59.421875 \r\nL 7.8125 69.390625 \r\nQ 13.765625 71.78125 18.9375 73 \r\nQ 24.125 74.21875 28.421875 74.21875 \r\nQ 39.75 74.21875 46.484375 68.546875 \r\nQ 53.21875 62.890625 53.21875 53.421875 \r\nQ 53.21875 48.921875 51.53125 44.890625 \r\nQ 49.859375 40.875 45.40625 35.40625 \r\nQ 44.1875 33.984375 37.640625 27.21875 \r\nQ 31.109375 20.453125 19.1875 8.296875 \r\nz\r\n\" id=\"DejaVuSans-50\"/>\r\n       </defs>\r\n       <use xlink:href=\"#DejaVuSans-50\"/>\r\n      </g>\r\n     </g>\r\n    </g>\r\n    <g id=\"ytick_3\">\r\n     <g id=\"line2d_13\">\r\n      <g>\r\n       <use style=\"stroke:#000000;stroke-width:0.8;\" x=\"26.925\" xlink:href=\"#m4c13da1122\" y=\"214.285714\"/>\r\n      </g>\r\n     </g>\r\n     <g id=\"text_13\">\r\n      <!-- 4 -->\r\n      <g transform=\"translate(13.5625 218.084933)scale(0.1 -0.1)\">\r\n       <defs>\r\n        <path d=\"M 37.796875 64.3125 \r\nL 12.890625 25.390625 \r\nL 37.796875 25.390625 \r\nz\r\nM 35.203125 72.90625 \r\nL 47.609375 72.90625 \r\nL 47.609375 25.390625 \r\nL 58.015625 25.390625 \r\nL 58.015625 17.1875 \r\nL 47.609375 17.1875 \r\nL 47.609375 0 \r\nL 37.796875 0 \r\nL 37.796875 17.1875 \r\nL 4.890625 17.1875 \r\nL 4.890625 26.703125 \r\nz\r\n\" id=\"DejaVuSans-52\"/>\r\n       </defs>\r\n       <use xlink:href=\"#DejaVuSans-52\"/>\r\n      </g>\r\n     </g>\r\n    </g>\r\n    <g id=\"ytick_4\">\r\n     <g id=\"line2d_14\">\r\n      <g>\r\n       <use style=\"stroke:#000000;stroke-width:0.8;\" x=\"26.925\" xlink:href=\"#m4c13da1122\" y=\"181.928571\"/>\r\n      </g>\r\n     </g>\r\n     <g id=\"text_14\">\r\n      <!-- 6 -->\r\n      <g transform=\"translate(13.5625 185.72779)scale(0.1 -0.1)\">\r\n       <defs>\r\n        <path d=\"M 33.015625 40.375 \r\nQ 26.375 40.375 22.484375 35.828125 \r\nQ 18.609375 31.296875 18.609375 23.390625 \r\nQ 18.609375 15.53125 22.484375 10.953125 \r\nQ 26.375 6.390625 33.015625 6.390625 \r\nQ 39.65625 6.390625 43.53125 10.953125 \r\nQ 47.40625 15.53125 47.40625 23.390625 \r\nQ 47.40625 31.296875 43.53125 35.828125 \r\nQ 39.65625 40.375 33.015625 40.375 \r\nz\r\nM 52.59375 71.296875 \r\nL 52.59375 62.3125 \r\nQ 48.875 64.0625 45.09375 64.984375 \r\nQ 41.3125 65.921875 37.59375 65.921875 \r\nQ 27.828125 65.921875 22.671875 59.328125 \r\nQ 17.53125 52.734375 16.796875 39.40625 \r\nQ 19.671875 43.65625 24.015625 45.921875 \r\nQ 28.375 48.1875 33.59375 48.1875 \r\nQ 44.578125 48.1875 50.953125 41.515625 \r\nQ 57.328125 34.859375 57.328125 23.390625 \r\nQ 57.328125 12.15625 50.6875 5.359375 \r\nQ 44.046875 -1.421875 33.015625 -1.421875 \r\nQ 20.359375 -1.421875 13.671875 8.265625 \r\nQ 6.984375 17.96875 6.984375 36.375 \r\nQ 6.984375 53.65625 15.1875 63.9375 \r\nQ 23.390625 74.21875 37.203125 74.21875 \r\nQ 40.921875 74.21875 44.703125 73.484375 \r\nQ 48.484375 72.75 52.59375 71.296875 \r\nz\r\n\" id=\"DejaVuSans-54\"/>\r\n       </defs>\r\n       <use xlink:href=\"#DejaVuSans-54\"/>\r\n      </g>\r\n     </g>\r\n    </g>\r\n    <g id=\"ytick_5\">\r\n     <g id=\"line2d_15\">\r\n      <g>\r\n       <use style=\"stroke:#000000;stroke-width:0.8;\" x=\"26.925\" xlink:href=\"#m4c13da1122\" y=\"149.571429\"/>\r\n      </g>\r\n     </g>\r\n     <g id=\"text_15\">\r\n      <!-- 8 -->\r\n      <g transform=\"translate(13.5625 153.370647)scale(0.1 -0.1)\">\r\n       <defs>\r\n        <path d=\"M 31.78125 34.625 \r\nQ 24.75 34.625 20.71875 30.859375 \r\nQ 16.703125 27.09375 16.703125 20.515625 \r\nQ 16.703125 13.921875 20.71875 10.15625 \r\nQ 24.75 6.390625 31.78125 6.390625 \r\nQ 38.8125 6.390625 42.859375 10.171875 \r\nQ 46.921875 13.96875 46.921875 20.515625 \r\nQ 46.921875 27.09375 42.890625 30.859375 \r\nQ 38.875 34.625 31.78125 34.625 \r\nz\r\nM 21.921875 38.8125 \r\nQ 15.578125 40.375 12.03125 44.71875 \r\nQ 8.5 49.078125 8.5 55.328125 \r\nQ 8.5 64.0625 14.71875 69.140625 \r\nQ 20.953125 74.21875 31.78125 74.21875 \r\nQ 42.671875 74.21875 48.875 69.140625 \r\nQ 55.078125 64.0625 55.078125 55.328125 \r\nQ 55.078125 49.078125 51.53125 44.71875 \r\nQ 48 40.375 41.703125 38.8125 \r\nQ 48.828125 37.15625 52.796875 32.3125 \r\nQ 56.78125 27.484375 56.78125 20.515625 \r\nQ 56.78125 9.90625 50.3125 4.234375 \r\nQ 43.84375 -1.421875 31.78125 -1.421875 \r\nQ 19.734375 -1.421875 13.25 4.234375 \r\nQ 6.78125 9.90625 6.78125 20.515625 \r\nQ 6.78125 27.484375 10.78125 32.3125 \r\nQ 14.796875 37.15625 21.921875 38.8125 \r\nz\r\nM 18.3125 54.390625 \r\nQ 18.3125 48.734375 21.84375 45.5625 \r\nQ 25.390625 42.390625 31.78125 42.390625 \r\nQ 38.140625 42.390625 41.71875 45.5625 \r\nQ 45.3125 48.734375 45.3125 54.390625 \r\nQ 45.3125 60.0625 41.71875 63.234375 \r\nQ 38.140625 66.40625 31.78125 66.40625 \r\nQ 25.390625 66.40625 21.84375 63.234375 \r\nQ 18.3125 60.0625 18.3125 54.390625 \r\nz\r\n\" id=\"DejaVuSans-56\"/>\r\n       </defs>\r\n       <use xlink:href=\"#DejaVuSans-56\"/>\r\n      </g>\r\n     </g>\r\n    </g>\r\n    <g id=\"ytick_6\">\r\n     <g id=\"line2d_16\">\r\n      <g>\r\n       <use style=\"stroke:#000000;stroke-width:0.8;\" x=\"26.925\" xlink:href=\"#m4c13da1122\" y=\"117.214286\"/>\r\n      </g>\r\n     </g>\r\n     <g id=\"text_16\">\r\n      <!-- 10 -->\r\n      <g transform=\"translate(7.2 121.013504)scale(0.1 -0.1)\">\r\n       <defs>\r\n        <path d=\"M 12.40625 8.296875 \r\nL 28.515625 8.296875 \r\nL 28.515625 63.921875 \r\nL 10.984375 60.40625 \r\nL 10.984375 69.390625 \r\nL 28.421875 72.90625 \r\nL 38.28125 72.90625 \r\nL 38.28125 8.296875 \r\nL 54.390625 8.296875 \r\nL 54.390625 0 \r\nL 12.40625 0 \r\nz\r\n\" id=\"DejaVuSans-49\"/>\r\n       </defs>\r\n       <use xlink:href=\"#DejaVuSans-49\"/>\r\n       <use x=\"63.623047\" xlink:href=\"#DejaVuSans-48\"/>\r\n      </g>\r\n     </g>\r\n    </g>\r\n    <g id=\"ytick_7\">\r\n     <g id=\"line2d_17\">\r\n      <g>\r\n       <use style=\"stroke:#000000;stroke-width:0.8;\" x=\"26.925\" xlink:href=\"#m4c13da1122\" y=\"84.857143\"/>\r\n      </g>\r\n     </g>\r\n     <g id=\"text_17\">\r\n      <!-- 12 -->\r\n      <g transform=\"translate(7.2 88.656362)scale(0.1 -0.1)\">\r\n       <use xlink:href=\"#DejaVuSans-49\"/>\r\n       <use x=\"63.623047\" xlink:href=\"#DejaVuSans-50\"/>\r\n      </g>\r\n     </g>\r\n    </g>\r\n    <g id=\"ytick_8\">\r\n     <g id=\"line2d_18\">\r\n      <g>\r\n       <use style=\"stroke:#000000;stroke-width:0.8;\" x=\"26.925\" xlink:href=\"#m4c13da1122\" y=\"52.5\"/>\r\n      </g>\r\n     </g>\r\n     <g id=\"text_18\">\r\n      <!-- 14 -->\r\n      <g transform=\"translate(7.2 56.299219)scale(0.1 -0.1)\">\r\n       <use xlink:href=\"#DejaVuSans-49\"/>\r\n       <use x=\"63.623047\" xlink:href=\"#DejaVuSans-52\"/>\r\n      </g>\r\n     </g>\r\n    </g>\r\n    <g id=\"ytick_9\">\r\n     <g id=\"line2d_19\">\r\n      <g>\r\n       <use style=\"stroke:#000000;stroke-width:0.8;\" x=\"26.925\" xlink:href=\"#m4c13da1122\" y=\"20.142857\"/>\r\n      </g>\r\n     </g>\r\n     <g id=\"text_19\">\r\n      <!-- 16 -->\r\n      <g transform=\"translate(7.2 23.942076)scale(0.1 -0.1)\">\r\n       <use xlink:href=\"#DejaVuSans-49\"/>\r\n       <use x=\"63.623047\" xlink:href=\"#DejaVuSans-54\"/>\r\n      </g>\r\n     </g>\r\n    </g>\r\n   </g>\r\n   <g id=\"patch_13\">\r\n    <path d=\"M 26.925 279 \r\nL 26.925 7.2 \r\n\" style=\"fill:none;stroke:#000000;stroke-linecap:square;stroke-linejoin:miter;stroke-width:0.8;\"/>\r\n   </g>\r\n   <g id=\"patch_14\">\r\n    <path d=\"M 1142.925 279 \r\nL 1142.925 7.2 \r\n\" style=\"fill:none;stroke:#000000;stroke-linecap:square;stroke-linejoin:miter;stroke-width:0.8;\"/>\r\n   </g>\r\n   <g id=\"patch_15\">\r\n    <path d=\"M 26.925 279 \r\nL 1142.925 279 \r\n\" style=\"fill:none;stroke:#000000;stroke-linecap:square;stroke-linejoin:miter;stroke-width:0.8;\"/>\r\n   </g>\r\n   <g id=\"patch_16\">\r\n    <path d=\"M 26.925 7.2 \r\nL 1142.925 7.2 \r\n\" style=\"fill:none;stroke:#000000;stroke-linecap:square;stroke-linejoin:miter;stroke-width:0.8;\"/>\r\n   </g>\r\n  </g>\r\n </g>\r\n <defs>\r\n  <clipPath id=\"pc762feb582\">\r\n   <rect height=\"271.8\" width=\"1116\" x=\"26.925\" y=\"7.2\"/>\r\n  </clipPath>\r\n </defs>\r\n</svg>\r\n",
      "image/png": "[encoded data removed]"
     },
     "metadata": {
      "needs_background": "light"
     }
    }
   ],
   "metadata": {}
  },
  {
   "cell_type": "code",
   "execution_count": 21,
   "source": [
    "G['sweater']"
   ],
   "outputs": [
    {
     "output_type": "execute_result",
     "data": {
      "text/plain": [
       "AdjacencyView({'drawer': {0: {'Relationship type': 'atlocation'}}, 'sweat': {0: {'Relationship type': 'derivedfrom'}, 1: {'Relationship type': 'relatedto'}}, 'us': {0: {'Relationship type': 'hascontext'}}, 'sticky': {0: {'Relationship type': 'hasproperty'}}, 'piece_of_clothing': {0: {'Relationship type': 'isa'}}, 'enveloping_covering': {0: {'Relationship type': 'isa'}}, 'top': {0: {'Relationship type': 'isa'}}, 'garment': {0: {'Relationship type': 'isa'}, 1: {'Relationship type': 'relatedto'}}, 'exercise': {0: {'Relationship type': 'relatedto'}}, 'jacket': {0: {'Relationship type': 'relatedto'}}, 'knit': {0: {'Relationship type': 'relatedto'}}, 'warm': {0: {'Relationship type': 'relatedto'}}, 'wool': {0: {'Relationship type': 'relatedto'}}, 'jumper': {0: {'Relationship type': 'synonym'}}, 'sweatshirt': {0: {'Relationship type': 'synonym'}}})"
      ]
     },
     "metadata": {},
     "execution_count": 21
    }
   ],
   "metadata": {}
  },
  {
   "cell_type": "code",
   "execution_count": 22,
   "source": [
    "path_count = 1\r\n",
    "for path in nx.all_simple_edge_paths(G,'shirt','sweater',cutoff=3):\r\n",
    "    print('path ',path_count)\r\n",
    "    path_count+=1\r\n",
    "    for i in range(len(path)):\r\n",
    "        print(path[i],G[path[i][0]][path[i][1]][path[i][2]]['Relationship type'])"
   ],
   "outputs": [
    {
     "output_type": "stream",
     "name": "stdout",
     "text": [
      "path  1\n",
      "('shirt', 'sweatshirt', 0) derivedfrom\n",
      "('sweatshirt', 'pullover', 0) isa\n",
      "('pullover', 'sweater', 0) isa\n",
      "path  2\n",
      "('shirt', 'sweatshirt', 0) derivedfrom\n",
      "('sweatshirt', 'pullover', 0) isa\n",
      "('pullover', 'sweater', 1) relatedto\n",
      "path  3\n",
      "('shirt', 'sweatshirt', 0) derivedfrom\n",
      "('sweatshirt', 'fleece', 0) relatedto\n",
      "('fleece', 'sweater', 0) relatedto\n",
      "path  4\n",
      "('shirt', 'sweatshirt', 0) derivedfrom\n",
      "('sweatshirt', 'knit', 0) relatedto\n",
      "('knit', 'sweater', 0) motivatedbygoal\n",
      "path  5\n",
      "('shirt', 'dress', 0) mannerof\n",
      "('dress', 'coat', 0) relatedto\n",
      "('coat', 'sweater', 0) relatedto\n",
      "path  6\n",
      "('shirt', 'dress', 0) mannerof\n",
      "('dress', 'coat', 1) synonym\n",
      "('coat', 'sweater', 0) relatedto\n",
      "path  7\n",
      "('shirt', 'arm', 0) relatedto\n",
      "('arm', 'coat', 0) atlocation\n",
      "('coat', 'sweater', 0) relatedto\n",
      "path  8\n",
      "('shirt', 'arm', 0) relatedto\n",
      "('arm', 'sleeve', 0) relatedto\n",
      "('sleeve', 'sweater', 0) relatedto\n",
      "path  9\n",
      "('shirt', 'arm', 0) relatedto\n",
      "('arm', 'sleeve', 1) synonym\n",
      "('sleeve', 'sweater', 0) relatedto\n",
      "path  10\n",
      "('shirt', 'clothing', 0) relatedto\n",
      "('clothing', 'coat', 0) relatedto\n",
      "('coat', 'sweater', 0) relatedto\n",
      "path  11\n",
      "('shirt', 'sleeve', 0) relatedto\n",
      "('sleeve', 'vest', 0) distinctfrom\n",
      "('vest', 'sweater', 0) relatedto\n",
      "path  12\n",
      "('shirt', 'sleeve', 0) relatedto\n",
      "('sleeve', 'jumper', 0) relatedto\n",
      "('jumper', 'sweater', 0) relatedto\n",
      "path  13\n",
      "('shirt', 'sleeve', 0) relatedto\n",
      "('sleeve', 'jumper', 0) relatedto\n",
      "('jumper', 'sweater', 1) synonym\n",
      "path  14\n",
      "('shirt', 'sleeve', 0) relatedto\n",
      "('sleeve', 'sweater', 0) relatedto\n",
      "path  15\n",
      "('shirt', 'wear', 0) relatedto\n",
      "('wear', 'vest', 0) etymologicallyrelatedto\n",
      "('vest', 'sweater', 0) relatedto\n",
      "path  16\n",
      "('shirt', 'shirt', 0) synonym\n",
      "('shirt', 'sleeve', 0) relatedto\n",
      "('sleeve', 'sweater', 0) relatedto\n"
     ]
    }
   ],
   "metadata": {}
  },
  {
   "cell_type": "code",
   "execution_count": 23,
   "source": [
    "H = nx.Graph(G)"
   ],
   "outputs": [],
   "metadata": {}
  },
  {
   "cell_type": "code",
   "execution_count": 24,
   "source": [
    "print(\"No. of Common Neighbors : \", len(list(nx.common_neighbors(H,'shirt','sweater'))))\r\n",
    "print(\"Jaccard Coefficient : \", list(nx.jaccard_coefficient(H, [('shirt', 'sweater')]))[0][2])"
   ],
   "outputs": [
    {
     "output_type": "stream",
     "name": "stdout",
     "text": [
      "No. of Common Neighbors :  8\n",
      "Jaccard Coefficient :  0.08791208791208792\n"
     ]
    }
   ],
   "metadata": {}
  },
  {
   "cell_type": "markdown",
   "source": [
    "## 2 Similar Entities from Test & Train "
   ],
   "metadata": {}
  },
  {
   "cell_type": "code",
   "execution_count": 55,
   "source": [
    "print(\"No. of Common Neighbors : \", len(list(nx.common_neighbors(H,'workbench','worktable'))))\r\n",
    "print(\"Jaccard Coefficient : \", list(nx.jaccard_coefficient(H, [('workbench', 'worktable')]))[0][2])\r\n",
    "print(\"Sorenson statistics: \", 2*len(list(nx.common_neighbors(H,'workbench','worktable')))/(H.degree('workbench')+H.degree('worktable')))\r\n",
    "print(\"Salton statistics: \", 2*len(list(nx.common_neighbors(H,'workbench','worktable')))/(H.degree('workbench')*H.degree('worktable'))**(0.5))\r\n",
    "similarity_text(embed_name=\"Fasttext Embedding\",embed_dict=fasttext_dict,word1=\"workbench\",word2=\"worktable\")\r\n",
    "similarity_text(embed_name=\"Glove Embedding\",embed_dict=glove_dict,word1=\"workbench\",word2=\"worktable\")\r\n",
    "similarity_text(embed_name=\"Conceptnet Numberbatch Embedding\",embed_dict=conceptnet_numberbatch_dict,word1=\"workbench\",word2=\"worktable\")"
   ],
   "outputs": [
    {
     "output_type": "stream",
     "name": "stdout",
     "text": [
      "No. of Common Neighbors :  2\n",
      "Jaccard Coefficient :  0.08\n",
      "Sorenson statistics:  0.13793103448275862\n",
      "Salton statistics:  0.4\n",
      "Cosine similarity using \u001b[1m'Fasttext Embedding'\u001b[0m for pair (('workbench', 'worktable')) = 0.6928495764732361\n",
      "Cosine similarity using \u001b[1m'Glove Embedding'\u001b[0m for pair (('workbench', 'worktable')) = 0.5631563663482666\n",
      "Cosine similarity using \u001b[1m'Conceptnet Numberbatch Embedding'\u001b[0m for pair (('workbench', 'worktable')) = 0.7415089011192322\n"
     ]
    }
   ],
   "metadata": {}
  },
  {
   "cell_type": "code",
   "execution_count": 56,
   "source": [
    "print(\"No. of Common Neighbors : \", len(list(nx.common_neighbors(H,'chicken','bbq'))))\r\n",
    "print(\"Jaccard Coefficient : \", list(nx.jaccard_coefficient(H, [('chicken','bbq')]))[0][2])\r\n",
    "print(\"Sorenson statistics: \", 2*len(list(nx.common_neighbors(H,'chicken','bbq')))/(H.degree('chicken')+H.degree('bbq')))\r\n",
    "print(\"Salton statistics: \", 2*len(list(nx.common_neighbors(H,'chicken','bbq')))/(H.degree('chicken')*H.degree('bbq'))**(0.5))\r\n",
    "similarity_text(embed_name=\"Fasttext Embedding\",embed_dict=fasttext_dict,word1=\"chicken\",word2=\"bbq\")\r\n",
    "similarity_text(embed_name=\"Glove Embedding\",embed_dict=glove_dict,word1=\"chicken\",word2=\"bbq\")\r\n",
    "similarity_text(embed_name=\"Conceptnet Numberbatch Embedding\",embed_dict=conceptnet_numberbatch_dict,word1=\"chicken\",word2=\"bbq\")"
   ],
   "outputs": [
    {
     "output_type": "stream",
     "name": "stdout",
     "text": [
      "No. of Common Neighbors :  2\n",
      "Jaccard Coefficient :  0.010582010582010581\n",
      "Sorenson statistics:  0.02072538860103627\n",
      "Salton statistics:  0.053205792297841475\n",
      "Cosine similarity using \u001b[1m'Fasttext Embedding'\u001b[0m for pair (('chicken', 'bbq')) = 0.40904659032821655\n",
      "Cosine similarity using \u001b[1m'Glove Embedding'\u001b[0m for pair (('chicken', 'bbq')) = 0.5946546792984009\n",
      "Cosine similarity using \u001b[1m'Conceptnet Numberbatch Embedding'\u001b[0m for pair (('chicken', 'bbq')) = 0.41009247303009033\n"
     ]
    }
   ],
   "metadata": {}
  },
  {
   "cell_type": "markdown",
   "source": [
    "## 2 Dissimilar Entities from Test & Train"
   ],
   "metadata": {}
  },
  {
   "cell_type": "code",
   "execution_count": 58,
   "source": [
    "print(\"No. of Common Neighbors : \", len(list(nx.common_neighbors(H,'clothesline','eggs'))))\r\n",
    "print(\"Jaccard Coefficient : \", list(nx.jaccard_coefficient(H, [('clothesline', 'eggs')]))[0][2])\r\n",
    "print(\"Sorenson statistics: \", 2*len(list(nx.common_neighbors(H,'clothesline', 'eggs')))/(H.degree('clothesline')+H.degree('eggs')))\r\n",
    "print(\"Salton statistics: \", 2*len(list(nx.common_neighbors(H,'clothesline', 'eggs')))/(H.degree('clothesline')*H.degree('eggs'))**(0.5))\r\n",
    "similarity_text(embed_name=\"Fasttext Embedding\",embed_dict=fasttext_dict,word1=\"clothesline\",word2=\"eggs\")\r\n",
    "similarity_text(embed_name=\"Glove Embedding\",embed_dict=glove_dict,word1=\"clothesline\",word2=\"eggs\")\r\n",
    "similarity_text(embed_name=\"Conceptnet Numberbatch Embedding\",embed_dict=conceptnet_numberbatch_dict,word1=\"clothesline\",word2=\"eggs\")"
   ],
   "outputs": [
    {
     "output_type": "stream",
     "name": "stdout",
     "text": [
      "No. of Common Neighbors :  0\n",
      "Jaccard Coefficient :  0.0\n",
      "Sorenson statistics:  0.0\n",
      "Salton statistics:  0.0\n",
      "Cosine similarity using \u001b[1m'Fasttext Embedding'\u001b[0m for pair (('clothesline', 'eggs')) = 0.2023681253194809\n",
      "Cosine similarity using \u001b[1m'Glove Embedding'\u001b[0m for pair (('clothesline', 'eggs')) = 0.09051525592803955\n",
      "Cosine similarity using \u001b[1m'Conceptnet Numberbatch Embedding'\u001b[0m for pair (('clothesline', 'eggs')) = 0.023716134950518608\n"
     ]
    }
   ],
   "metadata": {}
  },
  {
   "cell_type": "code",
   "execution_count": 57,
   "source": [
    "print(\"No. of Common Neighbors : \", len(list(nx.common_neighbors(H,'carpet','eggs'))))\r\n",
    "print(\"Jaccard Coefficient : \", list(nx.jaccard_coefficient(H, [('carpet', 'eggs')]))[0][2])\r\n",
    "print(\"Sorenson statistics: \", 2*len(list(nx.common_neighbors(H,'carpet', 'eggs')))/(H.degree('carpet')+H.degree('eggs')))\r\n",
    "print(\"Salton statistics: \", 2*len(list(nx.common_neighbors(H,'carpet', 'eggs')))/(H.degree('carpet')*H.degree('eggs'))**(0.5))\r\n",
    "similarity_text(embed_name=\"Fasttext Embedding\",embed_dict=fasttext_dict,word1=\"carpet\",word2=\"eggs\")\r\n",
    "similarity_text(embed_name=\"Glove Embedding\",embed_dict=glove_dict,word1=\"carpet\",word2=\"eggs\")\r\n",
    "similarity_text(embed_name=\"Conceptnet Numberbatch Embedding\",embed_dict=conceptnet_numberbatch_dict,word1=\"carpet\",word2=\"eggs\")"
   ],
   "outputs": [
    {
     "output_type": "stream",
     "name": "stdout",
     "text": [
      "No. of Common Neighbors :  1\n",
      "Jaccard Coefficient :  0.004405286343612335\n",
      "Sorenson statistics:  0.008733624454148471\n",
      "Salton statistics:  0.024562537539453734\n",
      "Cosine similarity using \u001b[1m'Fasttext Embedding'\u001b[0m for pair (('carpet', 'eggs')) = 0.16559456288814545\n",
      "Cosine similarity using \u001b[1m'Glove Embedding'\u001b[0m for pair (('carpet', 'eggs')) = 0.14656537771224976\n",
      "Cosine similarity using \u001b[1m'Conceptnet Numberbatch Embedding'\u001b[0m for pair (('carpet', 'eggs')) = 0.02019725926220417\n"
     ]
    }
   ],
   "metadata": {}
  },
  {
   "cell_type": "markdown",
   "source": [
    "# Neural Embeddings"
   ],
   "metadata": {}
  },
  {
   "cell_type": "code",
   "execution_count": 42,
   "source": [
    "FASTTEXT_PATH = 'fasttext_embeddings/crawl-300d-2M.vec'\r\n",
    "GLOVE_PATH = 'glove_embeddings/glove.840B.300d.txt'\r\n",
    "NUMBERBATCH_PATH = 'numberbatch_embeddings/numberbatch-en.txt'"
   ],
   "outputs": [],
   "metadata": {}
  },
  {
   "cell_type": "code",
   "execution_count": 37,
   "source": [
    "def get_coefs(word, *arr):\r\n",
    "    return word, np.asarray(arr, dtype='float32')\r\n",
    "\r\n",
    "def load_embeddings(path):\r\n",
    "    with open(path,encoding = \"utf-8\") as f:\r\n",
    "        return dict(get_coefs(*line.strip().split(' ')) for line in f)\r\n",
    "\r\n",
    "def build_matrix(word_index, path):\r\n",
    "    embedding_index = load_embeddings(path)\r\n",
    "    embedding_matrix = np.zeros((len(word_index) + 1, 300))\r\n",
    "    for word, i in word_index.items():\r\n",
    "        try:\r\n",
    "            embedding_matrix[i] = embedding_index[word]\r\n",
    "        except KeyError:\r\n",
    "            pass\r\n",
    "    return embedding_matrix"
   ],
   "outputs": [],
   "metadata": {}
  },
  {
   "cell_type": "code",
   "execution_count": 45,
   "source": [
    "bold_start = '\\033[1m'\r\n",
    "bold_end = '\\033[0m'\r\n",
    "    \r\n",
    "def cosine_similarity(a, b):\r\n",
    "    numerator = np.dot(a, b)\r\n",
    "    \r\n",
    "    a_norm = np.sqrt(np.sum(a**2))\r\n",
    "    b_norm = np.sqrt(np.sum(b**2))\r\n",
    "    \r\n",
    "    denominator = a_norm * b_norm\r\n",
    "    \r\n",
    "    cosine_similarity = numerator / denominator\r\n",
    "    \r\n",
    "    return cosine_similarity\r\n",
    "\r\n",
    "def similarity_text(embed_name,embed_dict,word1,word2):\r\n",
    "\r\n",
    "    if embed_name in ['bert','roberta','distilbert']:\r\n",
    "        w1 = embed_dict.encode(word1,show_progress_bar=False)\r\n",
    "        w2 = embed_dict.encode(word2,show_progress_bar=False)\r\n",
    "    else:\r\n",
    "        w1 = embed_dict[word1]\r\n",
    "        w2 = embed_dict[word2]\r\n",
    "\r\n",
    "    print(f\"Cosine similarity using {bold_start}'{embed_name}'{bold_end} for pair ({word1,word2}) = {cosine_similarity(w1,w2)}\")\r\n",
    "    return "
   ],
   "outputs": [],
   "metadata": {}
  },
  {
   "cell_type": "code",
   "execution_count": 39,
   "source": [
    "fasttext_dict = load_embeddings(FASTTEXT_PATH)"
   ],
   "outputs": [],
   "metadata": {}
  },
  {
   "cell_type": "code",
   "execution_count": 40,
   "source": [
    "glove_dict = load_embeddings(GLOVE_PATH)"
   ],
   "outputs": [],
   "metadata": {}
  },
  {
   "cell_type": "code",
   "execution_count": 43,
   "source": [
    "conceptnet_numberbatch_dict = load_embeddings(NUMBERBATCH_PATH)"
   ],
   "outputs": [],
   "metadata": {}
  },
  {
   "cell_type": "code",
   "execution_count": 46,
   "source": [
    "similarity_text(embed_name=\"Fasttext Embedding\",embed_dict=fasttext_dict,word1=\"workbench\",word2=\"worktable\")"
   ],
   "outputs": [
    {
     "output_type": "stream",
     "name": "stdout",
     "text": [
      "Cosine similarity using \u001b[1m'Fasttext Embedding'\u001b[0m for pair (('workbench', 'worktable')) = 0.6928495764732361\n"
     ]
    }
   ],
   "metadata": {}
  },
  {
   "cell_type": "code",
   "execution_count": 53,
   "source": [
    "similarity_text(embed_name=\"Glove Embedding\",embed_dict=glove_dict,word1=\"workbench\",word2=\"worktable\")"
   ],
   "outputs": [
    {
     "output_type": "stream",
     "name": "stdout",
     "text": [
      "Cosine similarity using \u001b[1m'Glove Embedding'\u001b[0m for pair (('workbench', 'worktable')) = 0.5631563663482666\n"
     ]
    }
   ],
   "metadata": {}
  },
  {
   "cell_type": "code",
   "execution_count": 54,
   "source": [
    "similarity_text(embed_name=\"Conceptnet Numberbatch Embedding\",embed_dict=conceptnet_numberbatch_dict,word1=\"workbench\",word2=\"worktable\")"
   ],
   "outputs": [
    {
     "output_type": "stream",
     "name": "stdout",
     "text": [
      "Cosine similarity using \u001b[1m'Conceptnet Numberbatch Embedding'\u001b[0m for pair (('workbench', 'worktable')) = 0.7415089011192322\n"
     ]
    }
   ],
   "metadata": {}
  }
 ],
 "metadata": {
  "orig_nbformat": 4,
  "language_info": {
   "name": "python",
   "version": "3.8.8",
   "mimetype": "text/x-python",
   "codemirror_mode": {
    "name": "ipython",
    "version": 3
   },
   "pygments_lexer": "ipython3",
   "nbconvert_exporter": "python",
   "file_extension": ".py"
  },
  "kernelspec": {
   "name": "python3",
   "display_name": "Python 3.8.8 64-bit ('base': conda)"
  },
  "interpreter": {
   "hash": "cc5f70855ac006f3de45a3cc3b9e7d8d53845e50458809cb162b0174266dec97"
  }
 },
 "nbformat": 4,
 "nbformat_minor": 2
}